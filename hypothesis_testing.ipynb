{
  "cells": [
    {
      "cell_type": "code",
      "execution_count": null,
      "id": "b89c98e1-7ab1-45f2-9bf4-05f49ade5c05",
      "metadata": {
        "tags": [],
        "id": "b89c98e1-7ab1-45f2-9bf4-05f49ade5c05"
      },
      "outputs": [],
      "source": [
        "import numpy as np\n",
        "import pandas as pd\n",
        "import scipy.stats as stats\n",
        "from scipy.stats import ttest_ind\n",
        "from scipy.stats import mannwhitneyu\n",
        "import matplotlib.pyplot as plt\n",
        "import seaborn as sns\n",
        "import re\n",
        "import scipy\n",
        "from scipy.stats import levene\n",
        "from scipy.stats import kstest, norm\n",
        "from scipy.stats import ks_2samp\n",
        "from scipy.stats import f_oneway\n"
      ]
    },
    {
      "cell_type": "code",
      "execution_count": null,
      "id": "641250fd-7466-418c-afbc-9d0794aeb4ba",
      "metadata": {
        "tags": [],
        "id": "641250fd-7466-418c-afbc-9d0794aeb4ba",
        "outputId": "05414c7c-9697-43cc-9644-fd91787dde35",
        "colab": {
          "base_uri": "https://localhost:8080/",
          "height": 704
        }
      },
      "outputs": [
        {
          "output_type": "execute_result",
          "data": {
            "text/plain": [
              "      The Life of David Gale (2003)  Wing Commander (1999)  \\\n",
              "0                               NaN                    NaN   \n",
              "1                               NaN                    NaN   \n",
              "2                               NaN                    NaN   \n",
              "3                               NaN                    NaN   \n",
              "4                               NaN                    NaN   \n",
              "...                             ...                    ...   \n",
              "1092                            NaN                    NaN   \n",
              "1093                            3.0                    4.0   \n",
              "1094                            NaN                    NaN   \n",
              "1095                            NaN                    NaN   \n",
              "1096                            NaN                    NaN   \n",
              "\n",
              "      Django Unchained (2012)  Alien (1979)  \\\n",
              "0                         4.0           NaN   \n",
              "1                         1.5           NaN   \n",
              "2                         NaN           NaN   \n",
              "3                         2.0           NaN   \n",
              "4                         3.5           NaN   \n",
              "...                       ...           ...   \n",
              "1092                      NaN           NaN   \n",
              "1093                      NaN           NaN   \n",
              "1094                      NaN           NaN   \n",
              "1095                      NaN           NaN   \n",
              "1096                      4.0           NaN   \n",
              "\n",
              "      Indiana Jones and the Last Crusade (1989)  Snatch (2000)  \\\n",
              "0                                           3.0            NaN   \n",
              "1                                           NaN            NaN   \n",
              "2                                           NaN            NaN   \n",
              "3                                           3.0            NaN   \n",
              "4                                           0.5            NaN   \n",
              "...                                         ...            ...   \n",
              "1092                                        3.5            NaN   \n",
              "1093                                        4.0            4.0   \n",
              "1094                                        NaN            NaN   \n",
              "1095                                        NaN            NaN   \n",
              "1096                                        2.5            NaN   \n",
              "\n",
              "      Rambo: First Blood Part II (1985)  Fargo (1996)  \\\n",
              "0                                   NaN           NaN   \n",
              "1                                   NaN           NaN   \n",
              "2                                   NaN           NaN   \n",
              "3                                   NaN           NaN   \n",
              "4                                   0.5           1.0   \n",
              "...                                 ...           ...   \n",
              "1092                                NaN           NaN   \n",
              "1093                                2.5           NaN   \n",
              "1094                                NaN           3.5   \n",
              "1095                                NaN           NaN   \n",
              "1096                                NaN           3.0   \n",
              "\n",
              "      Let the Right One In (2008)  Black Swan (2010)  ...  \\\n",
              "0                             NaN                NaN  ...   \n",
              "1                             NaN                NaN  ...   \n",
              "2                             NaN                NaN  ...   \n",
              "3                             NaN                4.0  ...   \n",
              "4                             NaN                0.0  ...   \n",
              "...                           ...                ...  ...   \n",
              "1092                          NaN                NaN  ...   \n",
              "1093                          3.5                3.5  ...   \n",
              "1094                          NaN                NaN  ...   \n",
              "1095                          NaN                NaN  ...   \n",
              "1096                          NaN                3.5  ...   \n",
              "\n",
              "      When watching a movie I cheer or shout or talk or curse at the screen  \\\n",
              "0                                                   1.0                       \n",
              "1                                                   3.0                       \n",
              "2                                                   5.0                       \n",
              "3                                                   3.0                       \n",
              "4                                                   2.0                       \n",
              "...                                                 ...                       \n",
              "1092                                                3.0                       \n",
              "1093                                                5.0                       \n",
              "1094                                                6.0                       \n",
              "1095                                                1.0                       \n",
              "1096                                                3.0                       \n",
              "\n",
              "      When watching a movie I feel like the things on the screen are happening to me  \\\n",
              "0                                                   6.0                                \n",
              "1                                                   1.0                                \n",
              "2                                                   4.0                                \n",
              "3                                                   1.0                                \n",
              "4                                                   3.0                                \n",
              "...                                                 ...                                \n",
              "1092                                                4.0                                \n",
              "1093                                                3.0                                \n",
              "1094                                                3.0                                \n",
              "1095                                                1.0                                \n",
              "1096                                                4.0                                \n",
              "\n",
              "      As a movie unfolds I start to have problems keeping track of events that happened earlier  \\\n",
              "0                                                   2.0                                           \n",
              "1                                                   1.0                                           \n",
              "2                                                   3.0                                           \n",
              "3                                                   1.0                                           \n",
              "4                                                   2.0                                           \n",
              "...                                                 ...                                           \n",
              "1092                                                3.0                                           \n",
              "1093                                                5.0                                           \n",
              "1094                                                1.0                                           \n",
              "1095                                                1.0                                           \n",
              "1096                                                1.0                                           \n",
              "\n",
              "      The emotions on the screen \"rub off\" on me - for instance if something sad is happening I get sad or if something frightening is happening I get scared  \\\n",
              "0                                                   5.0                                                                                                         \n",
              "1                                                   6.0                                                                                                         \n",
              "2                                                   5.0                                                                                                         \n",
              "3                                                   4.0                                                                                                         \n",
              "4                                                   5.0                                                                                                         \n",
              "...                                                 ...                                                                                                         \n",
              "1092                                                5.0                                                                                                         \n",
              "1093                                                5.0                                                                                                         \n",
              "1094                                                6.0                                                                                                         \n",
              "1095                                                4.0                                                                                                         \n",
              "1096                                                4.0                                                                                                         \n",
              "\n",
              "      When watching a movie I get completely immersed in the alternative reality of the film  \\\n",
              "0                                                   5.0                                        \n",
              "1                                                   5.0                                        \n",
              "2                                                   5.0                                        \n",
              "3                                                   5.0                                        \n",
              "4                                                   6.0                                        \n",
              "...                                                 ...                                        \n",
              "1092                                                5.0                                        \n",
              "1093                                                5.0                                        \n",
              "1094                                                6.0                                        \n",
              "1095                                                3.0                                        \n",
              "1096                                                4.0                                        \n",
              "\n",
              "      Movies change my position on social economic or political issues  \\\n",
              "0                                                   5.0                  \n",
              "1                                                   3.0                  \n",
              "2                                                   4.0                  \n",
              "3                                                   3.0                  \n",
              "4                                                   4.0                  \n",
              "...                                                 ...                  \n",
              "1092                                                4.0                  \n",
              "1093                                                6.0                  \n",
              "1094                                                4.0                  \n",
              "1095                                                3.0                  \n",
              "1096                                                4.0                  \n",
              "\n",
              "      When watching movies things get so intense that I have to stop watching  \\\n",
              "0                                                   1.0                         \n",
              "1                                                   2.0                         \n",
              "2                                                   4.0                         \n",
              "3                                                   1.0                         \n",
              "4                                                   4.0                         \n",
              "...                                                 ...                         \n",
              "1092                                                4.0                         \n",
              "1093                                                5.0                         \n",
              "1094                                                2.0                         \n",
              "1095                                                1.0                         \n",
              "1096                                                1.0                         \n",
              "\n",
              "      Gender identity (1 = female; 2 = male; 3 = self-described)  \\\n",
              "0                                                   1.0            \n",
              "1                                                   1.0            \n",
              "2                                                   1.0            \n",
              "3                                                   1.0            \n",
              "4                                                   1.0            \n",
              "...                                                 ...            \n",
              "1092                                                1.0            \n",
              "1093                                                1.0            \n",
              "1094                                                1.0            \n",
              "1095                                                1.0            \n",
              "1096                                                1.0            \n",
              "\n",
              "      Are you an only child? (1: Yes; 0: No; -1: Did not respond)  \\\n",
              "0                                                     0             \n",
              "1                                                     0             \n",
              "2                                                     1             \n",
              "3                                                     0             \n",
              "4                                                     1             \n",
              "...                                                 ...             \n",
              "1092                                                  0             \n",
              "1093                                                  0             \n",
              "1094                                                  0             \n",
              "1095                                                  0             \n",
              "1096                                                  0             \n",
              "\n",
              "      Movies are best enjoyed alone (1: Yes; 0: No; -1: Did not respond)  \n",
              "0                                                     1                   \n",
              "1                                                     0                   \n",
              "2                                                     0                   \n",
              "3                                                     1                   \n",
              "4                                                     1                   \n",
              "...                                                 ...                   \n",
              "1092                                                  0                   \n",
              "1093                                                  0                   \n",
              "1094                                                  0                   \n",
              "1095                                                  1                   \n",
              "1096                                                  1                   \n",
              "\n",
              "[1097 rows x 477 columns]"
            ],
            "text/html": [
              "\n",
              "  <div id=\"df-49d5312d-838a-43a7-8e7d-2a5ff1e2671d\" class=\"colab-df-container\">\n",
              "    <div>\n",
              "<style scoped>\n",
              "    .dataframe tbody tr th:only-of-type {\n",
              "        vertical-align: middle;\n",
              "    }\n",
              "\n",
              "    .dataframe tbody tr th {\n",
              "        vertical-align: top;\n",
              "    }\n",
              "\n",
              "    .dataframe thead th {\n",
              "        text-align: right;\n",
              "    }\n",
              "</style>\n",
              "<table border=\"1\" class=\"dataframe\">\n",
              "  <thead>\n",
              "    <tr style=\"text-align: right;\">\n",
              "      <th></th>\n",
              "      <th>The Life of David Gale (2003)</th>\n",
              "      <th>Wing Commander (1999)</th>\n",
              "      <th>Django Unchained (2012)</th>\n",
              "      <th>Alien (1979)</th>\n",
              "      <th>Indiana Jones and the Last Crusade (1989)</th>\n",
              "      <th>Snatch (2000)</th>\n",
              "      <th>Rambo: First Blood Part II (1985)</th>\n",
              "      <th>Fargo (1996)</th>\n",
              "      <th>Let the Right One In (2008)</th>\n",
              "      <th>Black Swan (2010)</th>\n",
              "      <th>...</th>\n",
              "      <th>When watching a movie I cheer or shout or talk or curse at the screen</th>\n",
              "      <th>When watching a movie I feel like the things on the screen are happening to me</th>\n",
              "      <th>As a movie unfolds I start to have problems keeping track of events that happened earlier</th>\n",
              "      <th>The emotions on the screen \"rub off\" on me - for instance if something sad is happening I get sad or if something frightening is happening I get scared</th>\n",
              "      <th>When watching a movie I get completely immersed in the alternative reality of the film</th>\n",
              "      <th>Movies change my position on social economic or political issues</th>\n",
              "      <th>When watching movies things get so intense that I have to stop watching</th>\n",
              "      <th>Gender identity (1 = female; 2 = male; 3 = self-described)</th>\n",
              "      <th>Are you an only child? (1: Yes; 0: No; -1: Did not respond)</th>\n",
              "      <th>Movies are best enjoyed alone (1: Yes; 0: No; -1: Did not respond)</th>\n",
              "    </tr>\n",
              "  </thead>\n",
              "  <tbody>\n",
              "    <tr>\n",
              "      <th>0</th>\n",
              "      <td>NaN</td>\n",
              "      <td>NaN</td>\n",
              "      <td>4.0</td>\n",
              "      <td>NaN</td>\n",
              "      <td>3.0</td>\n",
              "      <td>NaN</td>\n",
              "      <td>NaN</td>\n",
              "      <td>NaN</td>\n",
              "      <td>NaN</td>\n",
              "      <td>NaN</td>\n",
              "      <td>...</td>\n",
              "      <td>1.0</td>\n",
              "      <td>6.0</td>\n",
              "      <td>2.0</td>\n",
              "      <td>5.0</td>\n",
              "      <td>5.0</td>\n",
              "      <td>5.0</td>\n",
              "      <td>1.0</td>\n",
              "      <td>1.0</td>\n",
              "      <td>0</td>\n",
              "      <td>1</td>\n",
              "    </tr>\n",
              "    <tr>\n",
              "      <th>1</th>\n",
              "      <td>NaN</td>\n",
              "      <td>NaN</td>\n",
              "      <td>1.5</td>\n",
              "      <td>NaN</td>\n",
              "      <td>NaN</td>\n",
              "      <td>NaN</td>\n",
              "      <td>NaN</td>\n",
              "      <td>NaN</td>\n",
              "      <td>NaN</td>\n",
              "      <td>NaN</td>\n",
              "      <td>...</td>\n",
              "      <td>3.0</td>\n",
              "      <td>1.0</td>\n",
              "      <td>1.0</td>\n",
              "      <td>6.0</td>\n",
              "      <td>5.0</td>\n",
              "      <td>3.0</td>\n",
              "      <td>2.0</td>\n",
              "      <td>1.0</td>\n",
              "      <td>0</td>\n",
              "      <td>0</td>\n",
              "    </tr>\n",
              "    <tr>\n",
              "      <th>2</th>\n",
              "      <td>NaN</td>\n",
              "      <td>NaN</td>\n",
              "      <td>NaN</td>\n",
              "      <td>NaN</td>\n",
              "      <td>NaN</td>\n",
              "      <td>NaN</td>\n",
              "      <td>NaN</td>\n",
              "      <td>NaN</td>\n",
              "      <td>NaN</td>\n",
              "      <td>NaN</td>\n",
              "      <td>...</td>\n",
              "      <td>5.0</td>\n",
              "      <td>4.0</td>\n",
              "      <td>3.0</td>\n",
              "      <td>5.0</td>\n",
              "      <td>5.0</td>\n",
              "      <td>4.0</td>\n",
              "      <td>4.0</td>\n",
              "      <td>1.0</td>\n",
              "      <td>1</td>\n",
              "      <td>0</td>\n",
              "    </tr>\n",
              "    <tr>\n",
              "      <th>3</th>\n",
              "      <td>NaN</td>\n",
              "      <td>NaN</td>\n",
              "      <td>2.0</td>\n",
              "      <td>NaN</td>\n",
              "      <td>3.0</td>\n",
              "      <td>NaN</td>\n",
              "      <td>NaN</td>\n",
              "      <td>NaN</td>\n",
              "      <td>NaN</td>\n",
              "      <td>4.0</td>\n",
              "      <td>...</td>\n",
              "      <td>3.0</td>\n",
              "      <td>1.0</td>\n",
              "      <td>1.0</td>\n",
              "      <td>4.0</td>\n",
              "      <td>5.0</td>\n",
              "      <td>3.0</td>\n",
              "      <td>1.0</td>\n",
              "      <td>1.0</td>\n",
              "      <td>0</td>\n",
              "      <td>1</td>\n",
              "    </tr>\n",
              "    <tr>\n",
              "      <th>4</th>\n",
              "      <td>NaN</td>\n",
              "      <td>NaN</td>\n",
              "      <td>3.5</td>\n",
              "      <td>NaN</td>\n",
              "      <td>0.5</td>\n",
              "      <td>NaN</td>\n",
              "      <td>0.5</td>\n",
              "      <td>1.0</td>\n",
              "      <td>NaN</td>\n",
              "      <td>0.0</td>\n",
              "      <td>...</td>\n",
              "      <td>2.0</td>\n",
              "      <td>3.0</td>\n",
              "      <td>2.0</td>\n",
              "      <td>5.0</td>\n",
              "      <td>6.0</td>\n",
              "      <td>4.0</td>\n",
              "      <td>4.0</td>\n",
              "      <td>1.0</td>\n",
              "      <td>1</td>\n",
              "      <td>1</td>\n",
              "    </tr>\n",
              "    <tr>\n",
              "      <th>...</th>\n",
              "      <td>...</td>\n",
              "      <td>...</td>\n",
              "      <td>...</td>\n",
              "      <td>...</td>\n",
              "      <td>...</td>\n",
              "      <td>...</td>\n",
              "      <td>...</td>\n",
              "      <td>...</td>\n",
              "      <td>...</td>\n",
              "      <td>...</td>\n",
              "      <td>...</td>\n",
              "      <td>...</td>\n",
              "      <td>...</td>\n",
              "      <td>...</td>\n",
              "      <td>...</td>\n",
              "      <td>...</td>\n",
              "      <td>...</td>\n",
              "      <td>...</td>\n",
              "      <td>...</td>\n",
              "      <td>...</td>\n",
              "      <td>...</td>\n",
              "    </tr>\n",
              "    <tr>\n",
              "      <th>1092</th>\n",
              "      <td>NaN</td>\n",
              "      <td>NaN</td>\n",
              "      <td>NaN</td>\n",
              "      <td>NaN</td>\n",
              "      <td>3.5</td>\n",
              "      <td>NaN</td>\n",
              "      <td>NaN</td>\n",
              "      <td>NaN</td>\n",
              "      <td>NaN</td>\n",
              "      <td>NaN</td>\n",
              "      <td>...</td>\n",
              "      <td>3.0</td>\n",
              "      <td>4.0</td>\n",
              "      <td>3.0</td>\n",
              "      <td>5.0</td>\n",
              "      <td>5.0</td>\n",
              "      <td>4.0</td>\n",
              "      <td>4.0</td>\n",
              "      <td>1.0</td>\n",
              "      <td>0</td>\n",
              "      <td>0</td>\n",
              "    </tr>\n",
              "    <tr>\n",
              "      <th>1093</th>\n",
              "      <td>3.0</td>\n",
              "      <td>4.0</td>\n",
              "      <td>NaN</td>\n",
              "      <td>NaN</td>\n",
              "      <td>4.0</td>\n",
              "      <td>4.0</td>\n",
              "      <td>2.5</td>\n",
              "      <td>NaN</td>\n",
              "      <td>3.5</td>\n",
              "      <td>3.5</td>\n",
              "      <td>...</td>\n",
              "      <td>5.0</td>\n",
              "      <td>3.0</td>\n",
              "      <td>5.0</td>\n",
              "      <td>5.0</td>\n",
              "      <td>5.0</td>\n",
              "      <td>6.0</td>\n",
              "      <td>5.0</td>\n",
              "      <td>1.0</td>\n",
              "      <td>0</td>\n",
              "      <td>0</td>\n",
              "    </tr>\n",
              "    <tr>\n",
              "      <th>1094</th>\n",
              "      <td>NaN</td>\n",
              "      <td>NaN</td>\n",
              "      <td>NaN</td>\n",
              "      <td>NaN</td>\n",
              "      <td>NaN</td>\n",
              "      <td>NaN</td>\n",
              "      <td>NaN</td>\n",
              "      <td>3.5</td>\n",
              "      <td>NaN</td>\n",
              "      <td>NaN</td>\n",
              "      <td>...</td>\n",
              "      <td>6.0</td>\n",
              "      <td>3.0</td>\n",
              "      <td>1.0</td>\n",
              "      <td>6.0</td>\n",
              "      <td>6.0</td>\n",
              "      <td>4.0</td>\n",
              "      <td>2.0</td>\n",
              "      <td>1.0</td>\n",
              "      <td>0</td>\n",
              "      <td>0</td>\n",
              "    </tr>\n",
              "    <tr>\n",
              "      <th>1095</th>\n",
              "      <td>NaN</td>\n",
              "      <td>NaN</td>\n",
              "      <td>NaN</td>\n",
              "      <td>NaN</td>\n",
              "      <td>NaN</td>\n",
              "      <td>NaN</td>\n",
              "      <td>NaN</td>\n",
              "      <td>NaN</td>\n",
              "      <td>NaN</td>\n",
              "      <td>NaN</td>\n",
              "      <td>...</td>\n",
              "      <td>1.0</td>\n",
              "      <td>1.0</td>\n",
              "      <td>1.0</td>\n",
              "      <td>4.0</td>\n",
              "      <td>3.0</td>\n",
              "      <td>3.0</td>\n",
              "      <td>1.0</td>\n",
              "      <td>1.0</td>\n",
              "      <td>0</td>\n",
              "      <td>1</td>\n",
              "    </tr>\n",
              "    <tr>\n",
              "      <th>1096</th>\n",
              "      <td>NaN</td>\n",
              "      <td>NaN</td>\n",
              "      <td>4.0</td>\n",
              "      <td>NaN</td>\n",
              "      <td>2.5</td>\n",
              "      <td>NaN</td>\n",
              "      <td>NaN</td>\n",
              "      <td>3.0</td>\n",
              "      <td>NaN</td>\n",
              "      <td>3.5</td>\n",
              "      <td>...</td>\n",
              "      <td>3.0</td>\n",
              "      <td>4.0</td>\n",
              "      <td>1.0</td>\n",
              "      <td>4.0</td>\n",
              "      <td>4.0</td>\n",
              "      <td>4.0</td>\n",
              "      <td>1.0</td>\n",
              "      <td>1.0</td>\n",
              "      <td>0</td>\n",
              "      <td>1</td>\n",
              "    </tr>\n",
              "  </tbody>\n",
              "</table>\n",
              "<p>1097 rows × 477 columns</p>\n",
              "</div>\n",
              "    <div class=\"colab-df-buttons\">\n",
              "\n",
              "  <div class=\"colab-df-container\">\n",
              "    <button class=\"colab-df-convert\" onclick=\"convertToInteractive('df-49d5312d-838a-43a7-8e7d-2a5ff1e2671d')\"\n",
              "            title=\"Convert this dataframe to an interactive table.\"\n",
              "            style=\"display:none;\">\n",
              "\n",
              "  <svg xmlns=\"http://www.w3.org/2000/svg\" height=\"24px\" viewBox=\"0 -960 960 960\">\n",
              "    <path d=\"M120-120v-720h720v720H120Zm60-500h600v-160H180v160Zm220 220h160v-160H400v160Zm0 220h160v-160H400v160ZM180-400h160v-160H180v160Zm440 0h160v-160H620v160ZM180-180h160v-160H180v160Zm440 0h160v-160H620v160Z\"/>\n",
              "  </svg>\n",
              "    </button>\n",
              "\n",
              "  <style>\n",
              "    .colab-df-container {\n",
              "      display:flex;\n",
              "      gap: 12px;\n",
              "    }\n",
              "\n",
              "    .colab-df-convert {\n",
              "      background-color: #E8F0FE;\n",
              "      border: none;\n",
              "      border-radius: 50%;\n",
              "      cursor: pointer;\n",
              "      display: none;\n",
              "      fill: #1967D2;\n",
              "      height: 32px;\n",
              "      padding: 0 0 0 0;\n",
              "      width: 32px;\n",
              "    }\n",
              "\n",
              "    .colab-df-convert:hover {\n",
              "      background-color: #E2EBFA;\n",
              "      box-shadow: 0px 1px 2px rgba(60, 64, 67, 0.3), 0px 1px 3px 1px rgba(60, 64, 67, 0.15);\n",
              "      fill: #174EA6;\n",
              "    }\n",
              "\n",
              "    .colab-df-buttons div {\n",
              "      margin-bottom: 4px;\n",
              "    }\n",
              "\n",
              "    [theme=dark] .colab-df-convert {\n",
              "      background-color: #3B4455;\n",
              "      fill: #D2E3FC;\n",
              "    }\n",
              "\n",
              "    [theme=dark] .colab-df-convert:hover {\n",
              "      background-color: #434B5C;\n",
              "      box-shadow: 0px 1px 3px 1px rgba(0, 0, 0, 0.15);\n",
              "      filter: drop-shadow(0px 1px 2px rgba(0, 0, 0, 0.3));\n",
              "      fill: #FFFFFF;\n",
              "    }\n",
              "  </style>\n",
              "\n",
              "    <script>\n",
              "      const buttonEl =\n",
              "        document.querySelector('#df-49d5312d-838a-43a7-8e7d-2a5ff1e2671d button.colab-df-convert');\n",
              "      buttonEl.style.display =\n",
              "        google.colab.kernel.accessAllowed ? 'block' : 'none';\n",
              "\n",
              "      async function convertToInteractive(key) {\n",
              "        const element = document.querySelector('#df-49d5312d-838a-43a7-8e7d-2a5ff1e2671d');\n",
              "        const dataTable =\n",
              "          await google.colab.kernel.invokeFunction('convertToInteractive',\n",
              "                                                    [key], {});\n",
              "        if (!dataTable) return;\n",
              "\n",
              "        const docLinkHtml = 'Like what you see? Visit the ' +\n",
              "          '<a target=\"_blank\" href=https://colab.research.google.com/notebooks/data_table.ipynb>data table notebook</a>'\n",
              "          + ' to learn more about interactive tables.';\n",
              "        element.innerHTML = '';\n",
              "        dataTable['output_type'] = 'display_data';\n",
              "        await google.colab.output.renderOutput(dataTable, element);\n",
              "        const docLink = document.createElement('div');\n",
              "        docLink.innerHTML = docLinkHtml;\n",
              "        element.appendChild(docLink);\n",
              "      }\n",
              "    </script>\n",
              "  </div>\n",
              "\n",
              "\n",
              "<div id=\"df-281be6fa-ab1e-4698-b773-73456b7904b9\">\n",
              "  <button class=\"colab-df-quickchart\" onclick=\"quickchart('df-281be6fa-ab1e-4698-b773-73456b7904b9')\"\n",
              "            title=\"Suggest charts.\"\n",
              "            style=\"display:none;\">\n",
              "\n",
              "<svg xmlns=\"http://www.w3.org/2000/svg\" height=\"24px\"viewBox=\"0 0 24 24\"\n",
              "     width=\"24px\">\n",
              "    <g>\n",
              "        <path d=\"M19 3H5c-1.1 0-2 .9-2 2v14c0 1.1.9 2 2 2h14c1.1 0 2-.9 2-2V5c0-1.1-.9-2-2-2zM9 17H7v-7h2v7zm4 0h-2V7h2v10zm4 0h-2v-4h2v4z\"/>\n",
              "    </g>\n",
              "</svg>\n",
              "  </button>\n",
              "\n",
              "<style>\n",
              "  .colab-df-quickchart {\n",
              "      --bg-color: #E8F0FE;\n",
              "      --fill-color: #1967D2;\n",
              "      --hover-bg-color: #E2EBFA;\n",
              "      --hover-fill-color: #174EA6;\n",
              "      --disabled-fill-color: #AAA;\n",
              "      --disabled-bg-color: #DDD;\n",
              "  }\n",
              "\n",
              "  [theme=dark] .colab-df-quickchart {\n",
              "      --bg-color: #3B4455;\n",
              "      --fill-color: #D2E3FC;\n",
              "      --hover-bg-color: #434B5C;\n",
              "      --hover-fill-color: #FFFFFF;\n",
              "      --disabled-bg-color: #3B4455;\n",
              "      --disabled-fill-color: #666;\n",
              "  }\n",
              "\n",
              "  .colab-df-quickchart {\n",
              "    background-color: var(--bg-color);\n",
              "    border: none;\n",
              "    border-radius: 50%;\n",
              "    cursor: pointer;\n",
              "    display: none;\n",
              "    fill: var(--fill-color);\n",
              "    height: 32px;\n",
              "    padding: 0;\n",
              "    width: 32px;\n",
              "  }\n",
              "\n",
              "  .colab-df-quickchart:hover {\n",
              "    background-color: var(--hover-bg-color);\n",
              "    box-shadow: 0 1px 2px rgba(60, 64, 67, 0.3), 0 1px 3px 1px rgba(60, 64, 67, 0.15);\n",
              "    fill: var(--button-hover-fill-color);\n",
              "  }\n",
              "\n",
              "  .colab-df-quickchart-complete:disabled,\n",
              "  .colab-df-quickchart-complete:disabled:hover {\n",
              "    background-color: var(--disabled-bg-color);\n",
              "    fill: var(--disabled-fill-color);\n",
              "    box-shadow: none;\n",
              "  }\n",
              "\n",
              "  .colab-df-spinner {\n",
              "    border: 2px solid var(--fill-color);\n",
              "    border-color: transparent;\n",
              "    border-bottom-color: var(--fill-color);\n",
              "    animation:\n",
              "      spin 1s steps(1) infinite;\n",
              "  }\n",
              "\n",
              "  @keyframes spin {\n",
              "    0% {\n",
              "      border-color: transparent;\n",
              "      border-bottom-color: var(--fill-color);\n",
              "      border-left-color: var(--fill-color);\n",
              "    }\n",
              "    20% {\n",
              "      border-color: transparent;\n",
              "      border-left-color: var(--fill-color);\n",
              "      border-top-color: var(--fill-color);\n",
              "    }\n",
              "    30% {\n",
              "      border-color: transparent;\n",
              "      border-left-color: var(--fill-color);\n",
              "      border-top-color: var(--fill-color);\n",
              "      border-right-color: var(--fill-color);\n",
              "    }\n",
              "    40% {\n",
              "      border-color: transparent;\n",
              "      border-right-color: var(--fill-color);\n",
              "      border-top-color: var(--fill-color);\n",
              "    }\n",
              "    60% {\n",
              "      border-color: transparent;\n",
              "      border-right-color: var(--fill-color);\n",
              "    }\n",
              "    80% {\n",
              "      border-color: transparent;\n",
              "      border-right-color: var(--fill-color);\n",
              "      border-bottom-color: var(--fill-color);\n",
              "    }\n",
              "    90% {\n",
              "      border-color: transparent;\n",
              "      border-bottom-color: var(--fill-color);\n",
              "    }\n",
              "  }\n",
              "</style>\n",
              "\n",
              "  <script>\n",
              "    async function quickchart(key) {\n",
              "      const quickchartButtonEl =\n",
              "        document.querySelector('#' + key + ' button');\n",
              "      quickchartButtonEl.disabled = true;  // To prevent multiple clicks.\n",
              "      quickchartButtonEl.classList.add('colab-df-spinner');\n",
              "      try {\n",
              "        const charts = await google.colab.kernel.invokeFunction(\n",
              "            'suggestCharts', [key], {});\n",
              "      } catch (error) {\n",
              "        console.error('Error during call to suggestCharts:', error);\n",
              "      }\n",
              "      quickchartButtonEl.classList.remove('colab-df-spinner');\n",
              "      quickchartButtonEl.classList.add('colab-df-quickchart-complete');\n",
              "    }\n",
              "    (() => {\n",
              "      let quickchartButtonEl =\n",
              "        document.querySelector('#df-281be6fa-ab1e-4698-b773-73456b7904b9 button');\n",
              "      quickchartButtonEl.style.display =\n",
              "        google.colab.kernel.accessAllowed ? 'block' : 'none';\n",
              "    })();\n",
              "  </script>\n",
              "</div>\n",
              "    </div>\n",
              "  </div>\n"
            ]
          },
          "metadata": {},
          "execution_count": 2
        }
      ],
      "source": [
        "data = pd.read_csv('/content/movieReplicationSet.csv')\n",
        "data"
      ]
    },
    {
      "cell_type": "markdown",
      "source": [],
      "metadata": {
        "id": "cwN8qaHx7kEw"
      },
      "id": "cwN8qaHx7kEw"
    },
    {
      "cell_type": "code",
      "execution_count": null,
      "id": "0fee9e60-d462-4228-88b7-b8113082200b",
      "metadata": {
        "id": "0fee9e60-d462-4228-88b7-b8113082200b",
        "colab": {
          "base_uri": "https://localhost:8080/"
        },
        "outputId": "f189d947-6152-4e8a-fee7-66205717ad45"
      },
      "outputs": [
        {
          "output_type": "execute_result",
          "data": {
            "text/plain": [
              "Best Laid Plans (1999)         54\n",
              "The Final Conflict (1981)      55\n",
              "FeardotCom (2002)              56\n",
              "Sexy Beast (2000)              56\n",
              "Stir Crazy (1980)              59\n",
              "                             ... \n",
              "Monsters  Inc.(2001)          927\n",
              "The Lion King (1994)          937\n",
              "Shrek 2 (2004)                965\n",
              "Shrek (2001)                 1008\n",
              "Finding Nemo (2003)          1014\n",
              "Length: 400, dtype: int64"
            ]
          },
          "metadata": {},
          "execution_count": 3
        }
      ],
      "source": [
        "ratings_count = data.iloc[:, 0:400].count()\n",
        "ratings_count.sort_values()"
      ]
    },
    {
      "cell_type": "code",
      "execution_count": null,
      "id": "498aeb31-c456-4969-a767-fbfbbb1b144b",
      "metadata": {
        "tags": [],
        "id": "498aeb31-c456-4969-a767-fbfbbb1b144b",
        "colab": {
          "base_uri": "https://localhost:8080/"
        },
        "outputId": "52fff2c9-3cac-4f8f-89b7-05e9f2f1af53"
      },
      "outputs": [
        {
          "output_type": "execute_result",
          "data": {
            "text/plain": [
              "The Life of David Gale (2003)                2.151316\n",
              "Wing Commander (1999)                        2.021127\n",
              "Django Unchained (2012)                      3.153422\n",
              "Alien (1979)                                 2.707612\n",
              "Indiana Jones and the Last Crusade (1989)    2.778618\n",
              "                                               ...   \n",
              "Patton (1970)                                2.278689\n",
              "Anaconda (1997)                              2.295455\n",
              "Twister (1996)                               2.402299\n",
              "MacArthur (1977)                             2.114754\n",
              "Look Who's Talking (1989)                    2.337963\n",
              "Length: 400, dtype: float64"
            ]
          },
          "metadata": {},
          "execution_count": 4
        }
      ],
      "source": [
        "#automatically deals with null values by reomving them from calculation\n",
        "average_ratings = data.iloc[:, 0:400].mean(axis=0)\n",
        "average_ratings"
      ]
    },
    {
      "cell_type": "code",
      "execution_count": null,
      "id": "66299de5-6193-4c1b-a74e-d199c8ad101e",
      "metadata": {
        "tags": [],
        "id": "66299de5-6193-4c1b-a74e-d199c8ad101e",
        "outputId": "d14f8fb0-03be-400c-e584-0cdc76f70d8f",
        "colab": {
          "base_uri": "https://localhost:8080/",
          "height": 424
        }
      },
      "outputs": [
        {
          "output_type": "execute_result",
          "data": {
            "text/plain": [
              "                    Movie Name  ratings_count  average_rating\n",
              "249     Best Laid Plans (1999)             54        2.046296\n",
              "334  The Final Conflict (1981)             55        2.309091\n",
              "346          FeardotCom (2002)             56        2.205357\n",
              "109          Sexy Beast (2000)             56        2.232143\n",
              "133          Stir Crazy (1980)             59        2.194915\n",
              "..                         ...            ...             ...\n",
              "267       Monsters  Inc.(2001)            927        3.352211\n",
              "220       The Lion King (1994)            937        3.459979\n",
              "57              Shrek 2 (2004)            965        2.825907\n",
              "87                Shrek (2001)           1008        3.133929\n",
              "138        Finding Nemo (2003)           1014        3.388067\n",
              "\n",
              "[400 rows x 3 columns]"
            ],
            "text/html": [
              "\n",
              "  <div id=\"df-94a0f240-9434-4267-96c3-139954069f97\" class=\"colab-df-container\">\n",
              "    <div>\n",
              "<style scoped>\n",
              "    .dataframe tbody tr th:only-of-type {\n",
              "        vertical-align: middle;\n",
              "    }\n",
              "\n",
              "    .dataframe tbody tr th {\n",
              "        vertical-align: top;\n",
              "    }\n",
              "\n",
              "    .dataframe thead th {\n",
              "        text-align: right;\n",
              "    }\n",
              "</style>\n",
              "<table border=\"1\" class=\"dataframe\">\n",
              "  <thead>\n",
              "    <tr style=\"text-align: right;\">\n",
              "      <th></th>\n",
              "      <th>Movie Name</th>\n",
              "      <th>ratings_count</th>\n",
              "      <th>average_rating</th>\n",
              "    </tr>\n",
              "  </thead>\n",
              "  <tbody>\n",
              "    <tr>\n",
              "      <th>249</th>\n",
              "      <td>Best Laid Plans (1999)</td>\n",
              "      <td>54</td>\n",
              "      <td>2.046296</td>\n",
              "    </tr>\n",
              "    <tr>\n",
              "      <th>334</th>\n",
              "      <td>The Final Conflict (1981)</td>\n",
              "      <td>55</td>\n",
              "      <td>2.309091</td>\n",
              "    </tr>\n",
              "    <tr>\n",
              "      <th>346</th>\n",
              "      <td>FeardotCom (2002)</td>\n",
              "      <td>56</td>\n",
              "      <td>2.205357</td>\n",
              "    </tr>\n",
              "    <tr>\n",
              "      <th>109</th>\n",
              "      <td>Sexy Beast (2000)</td>\n",
              "      <td>56</td>\n",
              "      <td>2.232143</td>\n",
              "    </tr>\n",
              "    <tr>\n",
              "      <th>133</th>\n",
              "      <td>Stir Crazy (1980)</td>\n",
              "      <td>59</td>\n",
              "      <td>2.194915</td>\n",
              "    </tr>\n",
              "    <tr>\n",
              "      <th>...</th>\n",
              "      <td>...</td>\n",
              "      <td>...</td>\n",
              "      <td>...</td>\n",
              "    </tr>\n",
              "    <tr>\n",
              "      <th>267</th>\n",
              "      <td>Monsters  Inc.(2001)</td>\n",
              "      <td>927</td>\n",
              "      <td>3.352211</td>\n",
              "    </tr>\n",
              "    <tr>\n",
              "      <th>220</th>\n",
              "      <td>The Lion King (1994)</td>\n",
              "      <td>937</td>\n",
              "      <td>3.459979</td>\n",
              "    </tr>\n",
              "    <tr>\n",
              "      <th>57</th>\n",
              "      <td>Shrek 2 (2004)</td>\n",
              "      <td>965</td>\n",
              "      <td>2.825907</td>\n",
              "    </tr>\n",
              "    <tr>\n",
              "      <th>87</th>\n",
              "      <td>Shrek (2001)</td>\n",
              "      <td>1008</td>\n",
              "      <td>3.133929</td>\n",
              "    </tr>\n",
              "    <tr>\n",
              "      <th>138</th>\n",
              "      <td>Finding Nemo (2003)</td>\n",
              "      <td>1014</td>\n",
              "      <td>3.388067</td>\n",
              "    </tr>\n",
              "  </tbody>\n",
              "</table>\n",
              "<p>400 rows × 3 columns</p>\n",
              "</div>\n",
              "    <div class=\"colab-df-buttons\">\n",
              "\n",
              "  <div class=\"colab-df-container\">\n",
              "    <button class=\"colab-df-convert\" onclick=\"convertToInteractive('df-94a0f240-9434-4267-96c3-139954069f97')\"\n",
              "            title=\"Convert this dataframe to an interactive table.\"\n",
              "            style=\"display:none;\">\n",
              "\n",
              "  <svg xmlns=\"http://www.w3.org/2000/svg\" height=\"24px\" viewBox=\"0 -960 960 960\">\n",
              "    <path d=\"M120-120v-720h720v720H120Zm60-500h600v-160H180v160Zm220 220h160v-160H400v160Zm0 220h160v-160H400v160ZM180-400h160v-160H180v160Zm440 0h160v-160H620v160ZM180-180h160v-160H180v160Zm440 0h160v-160H620v160Z\"/>\n",
              "  </svg>\n",
              "    </button>\n",
              "\n",
              "  <style>\n",
              "    .colab-df-container {\n",
              "      display:flex;\n",
              "      gap: 12px;\n",
              "    }\n",
              "\n",
              "    .colab-df-convert {\n",
              "      background-color: #E8F0FE;\n",
              "      border: none;\n",
              "      border-radius: 50%;\n",
              "      cursor: pointer;\n",
              "      display: none;\n",
              "      fill: #1967D2;\n",
              "      height: 32px;\n",
              "      padding: 0 0 0 0;\n",
              "      width: 32px;\n",
              "    }\n",
              "\n",
              "    .colab-df-convert:hover {\n",
              "      background-color: #E2EBFA;\n",
              "      box-shadow: 0px 1px 2px rgba(60, 64, 67, 0.3), 0px 1px 3px 1px rgba(60, 64, 67, 0.15);\n",
              "      fill: #174EA6;\n",
              "    }\n",
              "\n",
              "    .colab-df-buttons div {\n",
              "      margin-bottom: 4px;\n",
              "    }\n",
              "\n",
              "    [theme=dark] .colab-df-convert {\n",
              "      background-color: #3B4455;\n",
              "      fill: #D2E3FC;\n",
              "    }\n",
              "\n",
              "    [theme=dark] .colab-df-convert:hover {\n",
              "      background-color: #434B5C;\n",
              "      box-shadow: 0px 1px 3px 1px rgba(0, 0, 0, 0.15);\n",
              "      filter: drop-shadow(0px 1px 2px rgba(0, 0, 0, 0.3));\n",
              "      fill: #FFFFFF;\n",
              "    }\n",
              "  </style>\n",
              "\n",
              "    <script>\n",
              "      const buttonEl =\n",
              "        document.querySelector('#df-94a0f240-9434-4267-96c3-139954069f97 button.colab-df-convert');\n",
              "      buttonEl.style.display =\n",
              "        google.colab.kernel.accessAllowed ? 'block' : 'none';\n",
              "\n",
              "      async function convertToInteractive(key) {\n",
              "        const element = document.querySelector('#df-94a0f240-9434-4267-96c3-139954069f97');\n",
              "        const dataTable =\n",
              "          await google.colab.kernel.invokeFunction('convertToInteractive',\n",
              "                                                    [key], {});\n",
              "        if (!dataTable) return;\n",
              "\n",
              "        const docLinkHtml = 'Like what you see? Visit the ' +\n",
              "          '<a target=\"_blank\" href=https://colab.research.google.com/notebooks/data_table.ipynb>data table notebook</a>'\n",
              "          + ' to learn more about interactive tables.';\n",
              "        element.innerHTML = '';\n",
              "        dataTable['output_type'] = 'display_data';\n",
              "        await google.colab.output.renderOutput(dataTable, element);\n",
              "        const docLink = document.createElement('div');\n",
              "        docLink.innerHTML = docLinkHtml;\n",
              "        element.appendChild(docLink);\n",
              "      }\n",
              "    </script>\n",
              "  </div>\n",
              "\n",
              "\n",
              "<div id=\"df-bac8eae5-303e-4db2-9bb4-0863cc8392fa\">\n",
              "  <button class=\"colab-df-quickchart\" onclick=\"quickchart('df-bac8eae5-303e-4db2-9bb4-0863cc8392fa')\"\n",
              "            title=\"Suggest charts.\"\n",
              "            style=\"display:none;\">\n",
              "\n",
              "<svg xmlns=\"http://www.w3.org/2000/svg\" height=\"24px\"viewBox=\"0 0 24 24\"\n",
              "     width=\"24px\">\n",
              "    <g>\n",
              "        <path d=\"M19 3H5c-1.1 0-2 .9-2 2v14c0 1.1.9 2 2 2h14c1.1 0 2-.9 2-2V5c0-1.1-.9-2-2-2zM9 17H7v-7h2v7zm4 0h-2V7h2v10zm4 0h-2v-4h2v4z\"/>\n",
              "    </g>\n",
              "</svg>\n",
              "  </button>\n",
              "\n",
              "<style>\n",
              "  .colab-df-quickchart {\n",
              "      --bg-color: #E8F0FE;\n",
              "      --fill-color: #1967D2;\n",
              "      --hover-bg-color: #E2EBFA;\n",
              "      --hover-fill-color: #174EA6;\n",
              "      --disabled-fill-color: #AAA;\n",
              "      --disabled-bg-color: #DDD;\n",
              "  }\n",
              "\n",
              "  [theme=dark] .colab-df-quickchart {\n",
              "      --bg-color: #3B4455;\n",
              "      --fill-color: #D2E3FC;\n",
              "      --hover-bg-color: #434B5C;\n",
              "      --hover-fill-color: #FFFFFF;\n",
              "      --disabled-bg-color: #3B4455;\n",
              "      --disabled-fill-color: #666;\n",
              "  }\n",
              "\n",
              "  .colab-df-quickchart {\n",
              "    background-color: var(--bg-color);\n",
              "    border: none;\n",
              "    border-radius: 50%;\n",
              "    cursor: pointer;\n",
              "    display: none;\n",
              "    fill: var(--fill-color);\n",
              "    height: 32px;\n",
              "    padding: 0;\n",
              "    width: 32px;\n",
              "  }\n",
              "\n",
              "  .colab-df-quickchart:hover {\n",
              "    background-color: var(--hover-bg-color);\n",
              "    box-shadow: 0 1px 2px rgba(60, 64, 67, 0.3), 0 1px 3px 1px rgba(60, 64, 67, 0.15);\n",
              "    fill: var(--button-hover-fill-color);\n",
              "  }\n",
              "\n",
              "  .colab-df-quickchart-complete:disabled,\n",
              "  .colab-df-quickchart-complete:disabled:hover {\n",
              "    background-color: var(--disabled-bg-color);\n",
              "    fill: var(--disabled-fill-color);\n",
              "    box-shadow: none;\n",
              "  }\n",
              "\n",
              "  .colab-df-spinner {\n",
              "    border: 2px solid var(--fill-color);\n",
              "    border-color: transparent;\n",
              "    border-bottom-color: var(--fill-color);\n",
              "    animation:\n",
              "      spin 1s steps(1) infinite;\n",
              "  }\n",
              "\n",
              "  @keyframes spin {\n",
              "    0% {\n",
              "      border-color: transparent;\n",
              "      border-bottom-color: var(--fill-color);\n",
              "      border-left-color: var(--fill-color);\n",
              "    }\n",
              "    20% {\n",
              "      border-color: transparent;\n",
              "      border-left-color: var(--fill-color);\n",
              "      border-top-color: var(--fill-color);\n",
              "    }\n",
              "    30% {\n",
              "      border-color: transparent;\n",
              "      border-left-color: var(--fill-color);\n",
              "      border-top-color: var(--fill-color);\n",
              "      border-right-color: var(--fill-color);\n",
              "    }\n",
              "    40% {\n",
              "      border-color: transparent;\n",
              "      border-right-color: var(--fill-color);\n",
              "      border-top-color: var(--fill-color);\n",
              "    }\n",
              "    60% {\n",
              "      border-color: transparent;\n",
              "      border-right-color: var(--fill-color);\n",
              "    }\n",
              "    80% {\n",
              "      border-color: transparent;\n",
              "      border-right-color: var(--fill-color);\n",
              "      border-bottom-color: var(--fill-color);\n",
              "    }\n",
              "    90% {\n",
              "      border-color: transparent;\n",
              "      border-bottom-color: var(--fill-color);\n",
              "    }\n",
              "  }\n",
              "</style>\n",
              "\n",
              "  <script>\n",
              "    async function quickchart(key) {\n",
              "      const quickchartButtonEl =\n",
              "        document.querySelector('#' + key + ' button');\n",
              "      quickchartButtonEl.disabled = true;  // To prevent multiple clicks.\n",
              "      quickchartButtonEl.classList.add('colab-df-spinner');\n",
              "      try {\n",
              "        const charts = await google.colab.kernel.invokeFunction(\n",
              "            'suggestCharts', [key], {});\n",
              "      } catch (error) {\n",
              "        console.error('Error during call to suggestCharts:', error);\n",
              "      }\n",
              "      quickchartButtonEl.classList.remove('colab-df-spinner');\n",
              "      quickchartButtonEl.classList.add('colab-df-quickchart-complete');\n",
              "    }\n",
              "    (() => {\n",
              "      let quickchartButtonEl =\n",
              "        document.querySelector('#df-bac8eae5-303e-4db2-9bb4-0863cc8392fa button');\n",
              "      quickchartButtonEl.style.display =\n",
              "        google.colab.kernel.accessAllowed ? 'block' : 'none';\n",
              "    })();\n",
              "  </script>\n",
              "</div>\n",
              "    </div>\n",
              "  </div>\n"
            ]
          },
          "metadata": {},
          "execution_count": 5
        }
      ],
      "source": [
        "ratings_count_df = pd.DataFrame({'Movie Name': ratings_count.index, 'ratings_count': ratings_count})\n",
        "# Create a DataFrame for average_ratings with the movie names as the index\n",
        "average_ratings_df = pd.DataFrame({'Movie Name': average_ratings.index, 'average_rating': average_ratings})\n",
        "# Merge the two DataFrames based on the 'Movie Name' column\n",
        "df = pd.merge(ratings_count_df, average_ratings_df, on='Movie Name')\n",
        "df = df.sort_values(by=\"ratings_count\")\n",
        "df"
      ]
    },
    {
      "cell_type": "markdown",
      "source": [
        "# Are movies that are more popular (operationalized as having more ratings) rated higher than movies that are less popular?\n"
      ],
      "metadata": {
        "id": "7asQyNjfShbf"
      },
      "id": "7asQyNjfShbf"
    },
    {
      "cell_type": "code",
      "execution_count": null,
      "id": "de31489f-bc4b-4a27-b51f-47ffd5d2da5c",
      "metadata": {
        "tags": [],
        "id": "de31489f-bc4b-4a27-b51f-47ffd5d2da5c",
        "outputId": "089ff7b0-ae05-4e36-8e0b-e9eea183e4da",
        "colab": {
          "base_uri": "https://localhost:8080/"
        }
      },
      "outputs": [
        {
          "output_type": "execute_result",
          "data": {
            "text/plain": [
              "197.5"
            ]
          },
          "metadata": {},
          "execution_count": 6
        }
      ],
      "source": [
        "median_ratings_count = df['ratings_count'].median()\n",
        "median_ratings_count"
      ]
    },
    {
      "cell_type": "code",
      "execution_count": null,
      "id": "a6ccfdf9-dd66-4f67-9066-6b56ddaec9ba",
      "metadata": {
        "tags": [],
        "id": "a6ccfdf9-dd66-4f67-9066-6b56ddaec9ba"
      },
      "outputs": [],
      "source": [
        "# pivot_table = data.iloc[:, 0:400].transpose()\n",
        "high_popularity_movies = df[df['ratings_count'] >= median_ratings_count]\n",
        "low_popularity_movies = df[df['ratings_count'] < median_ratings_count]"
      ]
    },
    {
      "cell_type": "code",
      "execution_count": null,
      "id": "2d71e94a-58c8-474f-81e8-8901ed159fc8",
      "metadata": {
        "tags": [],
        "id": "2d71e94a-58c8-474f-81e8-8901ed159fc8",
        "outputId": "7b95a839-99a2-44ff-8bda-a02930a86e10",
        "colab": {
          "base_uri": "https://localhost:8080/",
          "height": 564
        }
      },
      "outputs": [
        {
          "output_type": "display_data",
          "data": {
            "text/plain": [
              "<Figure size 1000x600 with 1 Axes>"
            ],
            "image/png": "[encoded data removed]"
          },
          "metadata": {}
        }
      ],
      "source": [
        "plt.figure(figsize=(10, 6))\n",
        "sns.scatterplot(data=df, x='ratings_count', y='average_rating', color='blue')\n",
        "plt.xlabel(\"Ratings Count\")\n",
        "plt.ylabel(\"Average Rating\")\n",
        "plt.title(\"Scatter Plot of Ratings Count vs. Average Rating\")\n",
        "plt.axvline(x=median_ratings_count, color='red', linestyle='--', label=f'Median Ratings Count ({median_ratings_count})')\n",
        "plt.legend()\n",
        "plt.show()"
      ]
    },
    {
      "cell_type": "code",
      "execution_count": null,
      "id": "d03473b3-9419-40c0-8b50-d3369b384d6d",
      "metadata": {
        "tags": [],
        "id": "d03473b3-9419-40c0-8b50-d3369b384d6d"
      },
      "outputs": [],
      "source": [
        "group1 = df[df['ratings_count'] >= median_ratings_count]['average_rating']\n",
        "group2 = df[df['ratings_count'] < median_ratings_count]['average_rating']\n"
      ]
    },
    {
      "cell_type": "code",
      "execution_count": null,
      "id": "77256bbe-e7d0-4758-92c0-cb1864bc0abf",
      "metadata": {
        "tags": [],
        "id": "77256bbe-e7d0-4758-92c0-cb1864bc0abf",
        "outputId": "6b6280a7-5306-4d83-9232-07e90837ed77",
        "colab": {
          "base_uri": "https://localhost:8080/"
        }
      },
      "outputs": [
        {
          "output_type": "stream",
          "name": "stdout",
          "text": [
            "Levene's Test - Test Statistic: 12.924660098096007, p-value: 0.0003650086478858589\n"
          ]
        }
      ],
      "source": [
        "#to check if the variances are differnt\n",
        "statistic, p_value = levene(group1, group2)\n",
        "\n",
        "# Print the results\n",
        "print(f\"Levene's Test - Test Statistic: {statistic}, p-value: {p_value}\")"
      ]
    },
    {
      "cell_type": "code",
      "execution_count": null,
      "id": "c81c4a3b-0ab8-483a-b9ba-93d0e24782a5",
      "metadata": {
        "tags": [],
        "id": "c81c4a3b-0ab8-483a-b9ba-93d0e24782a5",
        "outputId": "d76b2168-fe0c-4dc3-a0e8-38eca7ad7148",
        "colab": {
          "base_uri": "https://localhost:8080/",
          "height": 519
        }
      },
      "outputs": [
        {
          "output_type": "execute_result",
          "data": {
            "text/plain": [
              "(array([15., 32., 58., 69., 62., 49., 33., 49., 24.,  9.]),\n",
              " array([1.91558442, 2.07002384, 2.22446326, 2.37890269, 2.53334211,\n",
              "        2.68778154, 2.84222096, 2.99666038, 3.15109981, 3.30553923,\n",
              "        3.45997866]),\n",
              " <BarContainer object of 10 artists>)"
            ]
          },
          "metadata": {},
          "execution_count": 11
        },
        {
          "output_type": "display_data",
          "data": {
            "text/plain": [
              "<Figure size 640x480 with 1 Axes>"
            ],
            "image/png": "[encoded data removed]"
          },
          "metadata": {}
        }
      ],
      "source": [
        "plt.hist(group2, alpha=0.5)\n",
        "plt.hist(group1, alpha = 0.5)\n",
        "plt.hist(df['average_rating'], alpha=0.5)"
      ]
    },
    {
      "cell_type": "code",
      "execution_count": null,
      "id": "9924b987-9640-4949-aa95-9f1f8afd0845",
      "metadata": {
        "id": "9924b987-9640-4949-aa95-9f1f8afd0845",
        "colab": {
          "base_uri": "https://localhost:8080/"
        },
        "outputId": "a0d6aa67-d706-4045-9eac-46c21fcacd6e"
      },
      "outputs": [
        {
          "output_type": "stream",
          "name": "stdout",
          "text": [
            "T-Statistic: 17.756049269873714\n",
            "P-Value: 9.536936590851552e-52\n",
            "High popularity movies have significantly higher average ratings.\n"
          ]
        }
      ],
      "source": [
        "# Perform the 2-sample t-test\n",
        "t_stat, p_value = ttest_ind(group1, group2, equal_var=False)\n",
        "\n",
        "print(f\"T-Statistic: {t_stat}\")\n",
        "print(f\"P-Value: {p_value}\")\n",
        "alpha = 0.005\n",
        "if p_value < alpha:\n",
        "    print(\"High popularity movies have significantly higher average ratings.\")\n",
        "else:\n",
        "    print(\"There is no significant difference in average ratings between high and low popularity movies.\")"
      ]
    },
    {
      "cell_type": "code",
      "execution_count": null,
      "id": "afb4842a-8200-4cfb-9df3-e971d0645a50",
      "metadata": {
        "tags": [],
        "id": "afb4842a-8200-4cfb-9df3-e971d0645a50",
        "outputId": "7ca03c7f-febc-46f3-c52b-bb879ecdb49e",
        "colab": {
          "base_uri": "https://localhost:8080/"
        }
      },
      "outputs": [
        {
          "output_type": "execute_result",
          "data": {
            "text/plain": [
              "count    200.000000\n",
              "mean       2.400923\n",
              "std        0.231469\n",
              "min        1.915584\n",
              "25%        2.233036\n",
              "50%        2.402042\n",
              "75%        2.555871\n",
              "max        3.101036\n",
              "Name: average_rating, dtype: float64"
            ]
          },
          "metadata": {},
          "execution_count": 13
        }
      ],
      "source": [
        "group2.describe()"
      ]
    },
    {
      "cell_type": "code",
      "execution_count": null,
      "id": "a0dd8cf2-58e4-41e5-832b-6eae78b39b1b",
      "metadata": {
        "tags": [],
        "id": "a0dd8cf2-58e4-41e5-832b-6eae78b39b1b",
        "outputId": "cdc3bc2c-a56e-4d16-91f4-56297f3c5e99",
        "colab": {
          "base_uri": "https://localhost:8080/"
        }
      },
      "outputs": [
        {
          "output_type": "execute_result",
          "data": {
            "text/plain": [
              "count    400.000000\n",
              "mean       2.634619\n",
              "std        0.351948\n",
              "min        1.915584\n",
              "25%        2.363441\n",
              "50%        2.581923\n",
              "75%        2.915708\n",
              "max        3.459979\n",
              "Name: average_rating, dtype: float64"
            ]
          },
          "metadata": {},
          "execution_count": 14
        }
      ],
      "source": [
        "df['average_rating'].describe()"
      ]
    },
    {
      "cell_type": "code",
      "execution_count": null,
      "id": "400fb1e5-7d2c-41b4-96d3-605155a34c0c",
      "metadata": {
        "tags": [],
        "id": "400fb1e5-7d2c-41b4-96d3-605155a34c0c",
        "outputId": "8be5076b-d349-456f-ba50-cb31cdd5f29a",
        "colab": {
          "base_uri": "https://localhost:8080/"
        }
      },
      "outputs": [
        {
          "output_type": "execute_result",
          "data": {
            "text/plain": [
              "count    200.000000\n",
              "mean       2.868316\n",
              "std        0.291552\n",
              "min        2.164216\n",
              "25%        2.643825\n",
              "50%        2.897328\n",
              "75%        3.097573\n",
              "max        3.459979\n",
              "Name: average_rating, dtype: float64"
            ]
          },
          "metadata": {},
          "execution_count": 15
        }
      ],
      "source": [
        "group1.describe()\n",
        "# np.describe(group2)"
      ]
    },
    {
      "cell_type": "code",
      "execution_count": null,
      "id": "019af3c9-c6ce-44b0-9b12-1aab4548549b",
      "metadata": {
        "id": "019af3c9-c6ce-44b0-9b12-1aab4548549b"
      },
      "outputs": [],
      "source": []
    },
    {
      "cell_type": "code",
      "execution_count": null,
      "id": "db49a4a2-dea5-49eb-9733-ff38b6cb3e6f",
      "metadata": {
        "id": "db49a4a2-dea5-49eb-9733-ff38b6cb3e6f"
      },
      "outputs": [],
      "source": []
    },
    {
      "cell_type": "code",
      "execution_count": null,
      "id": "76314bb9-9a90-4c51-ae42-77090043a9e3",
      "metadata": {
        "id": "76314bb9-9a90-4c51-ae42-77090043a9e3"
      },
      "outputs": [],
      "source": []
    },
    {
      "cell_type": "code",
      "execution_count": null,
      "id": "4f5522fa-ff62-4e55-a5f0-bad25544cb42",
      "metadata": {
        "id": "4f5522fa-ff62-4e55-a5f0-bad25544cb42"
      },
      "outputs": [],
      "source": []
    },
    {
      "cell_type": "code",
      "execution_count": null,
      "id": "8c4b3b2b-c68d-4c9b-9288-28a1eaa8ffb1",
      "metadata": {
        "id": "8c4b3b2b-c68d-4c9b-9288-28a1eaa8ffb1"
      },
      "outputs": [],
      "source": []
    },
    {
      "cell_type": "code",
      "execution_count": null,
      "id": "e970363e-f013-4355-8c9b-8a3ef12684d8",
      "metadata": {
        "id": "e970363e-f013-4355-8c9b-8a3ef12684d8"
      },
      "outputs": [],
      "source": []
    },
    {
      "cell_type": "code",
      "execution_count": null,
      "id": "076326f4-c665-4364-9470-c24104df0917",
      "metadata": {
        "tags": [],
        "id": "076326f4-c665-4364-9470-c24104df0917"
      },
      "outputs": [],
      "source": [
        "movie_list = []\n",
        "year_list =[]\n",
        "for movie in (data.iloc[:, 0:400].columns):\n",
        "    match = re.search(r'\\((\\d{4})\\)$', movie)\n",
        "    year = match.group(1)\n",
        "    movie_list.append(movie)\n",
        "    year_list.append(year)"
      ]
    },
    {
      "cell_type": "code",
      "execution_count": null,
      "id": "64a0d1e9-c386-46d3-9bcf-54836b42198b",
      "metadata": {
        "tags": [],
        "id": "64a0d1e9-c386-46d3-9bcf-54836b42198b",
        "outputId": "6f427fed-7c6e-4f9f-993d-d121735edaf9",
        "colab": {
          "base_uri": "https://localhost:8080/",
          "height": 424
        }
      },
      "outputs": [
        {
          "output_type": "execute_result",
          "data": {
            "text/plain": [
              "                                Movie Name  year  average_rating\n",
              "17                           Psycho (1960)  1960        2.925770\n",
              "122   The Good the Bad and the Ugly (1966)  1966        2.787293\n",
              "135                   The Silencers (1966)  1966        2.230769\n",
              "162  Who's Afraid of Virginia Woolf (1966)  1966        2.642276\n",
              "268        Thoroughly Modern Millie (1967)  1967        2.372549\n",
              "..                                     ...   ...             ...\n",
              "371      Captain America: Civil War (2016)  2016        3.058550\n",
              "259           Ouija: Origin of Evil (2016)  2016        2.073604\n",
              "225                           Split (2016)  2016        2.936455\n",
              "319                      La La Land (2016)  2016        3.003584\n",
              "149                    Ghostbusters (2016)  2016        2.537594\n",
              "\n",
              "[400 rows x 3 columns]"
            ],
            "text/html": [
              "\n",
              "  <div id=\"df-5ae95e5f-4e46-49e2-9224-25732b5981ed\" class=\"colab-df-container\">\n",
              "    <div>\n",
              "<style scoped>\n",
              "    .dataframe tbody tr th:only-of-type {\n",
              "        vertical-align: middle;\n",
              "    }\n",
              "\n",
              "    .dataframe tbody tr th {\n",
              "        vertical-align: top;\n",
              "    }\n",
              "\n",
              "    .dataframe thead th {\n",
              "        text-align: right;\n",
              "    }\n",
              "</style>\n",
              "<table border=\"1\" class=\"dataframe\">\n",
              "  <thead>\n",
              "    <tr style=\"text-align: right;\">\n",
              "      <th></th>\n",
              "      <th>Movie Name</th>\n",
              "      <th>year</th>\n",
              "      <th>average_rating</th>\n",
              "    </tr>\n",
              "  </thead>\n",
              "  <tbody>\n",
              "    <tr>\n",
              "      <th>17</th>\n",
              "      <td>Psycho (1960)</td>\n",
              "      <td>1960</td>\n",
              "      <td>2.925770</td>\n",
              "    </tr>\n",
              "    <tr>\n",
              "      <th>122</th>\n",
              "      <td>The Good the Bad and the Ugly (1966)</td>\n",
              "      <td>1966</td>\n",
              "      <td>2.787293</td>\n",
              "    </tr>\n",
              "    <tr>\n",
              "      <th>135</th>\n",
              "      <td>The Silencers (1966)</td>\n",
              "      <td>1966</td>\n",
              "      <td>2.230769</td>\n",
              "    </tr>\n",
              "    <tr>\n",
              "      <th>162</th>\n",
              "      <td>Who's Afraid of Virginia Woolf (1966)</td>\n",
              "      <td>1966</td>\n",
              "      <td>2.642276</td>\n",
              "    </tr>\n",
              "    <tr>\n",
              "      <th>268</th>\n",
              "      <td>Thoroughly Modern Millie (1967)</td>\n",
              "      <td>1967</td>\n",
              "      <td>2.372549</td>\n",
              "    </tr>\n",
              "    <tr>\n",
              "      <th>...</th>\n",
              "      <td>...</td>\n",
              "      <td>...</td>\n",
              "      <td>...</td>\n",
              "    </tr>\n",
              "    <tr>\n",
              "      <th>371</th>\n",
              "      <td>Captain America: Civil War (2016)</td>\n",
              "      <td>2016</td>\n",
              "      <td>3.058550</td>\n",
              "    </tr>\n",
              "    <tr>\n",
              "      <th>259</th>\n",
              "      <td>Ouija: Origin of Evil (2016)</td>\n",
              "      <td>2016</td>\n",
              "      <td>2.073604</td>\n",
              "    </tr>\n",
              "    <tr>\n",
              "      <th>225</th>\n",
              "      <td>Split (2016)</td>\n",
              "      <td>2016</td>\n",
              "      <td>2.936455</td>\n",
              "    </tr>\n",
              "    <tr>\n",
              "      <th>319</th>\n",
              "      <td>La La Land (2016)</td>\n",
              "      <td>2016</td>\n",
              "      <td>3.003584</td>\n",
              "    </tr>\n",
              "    <tr>\n",
              "      <th>149</th>\n",
              "      <td>Ghostbusters (2016)</td>\n",
              "      <td>2016</td>\n",
              "      <td>2.537594</td>\n",
              "    </tr>\n",
              "  </tbody>\n",
              "</table>\n",
              "<p>400 rows × 3 columns</p>\n",
              "</div>\n",
              "    <div class=\"colab-df-buttons\">\n",
              "\n",
              "  <div class=\"colab-df-container\">\n",
              "    <button class=\"colab-df-convert\" onclick=\"convertToInteractive('df-5ae95e5f-4e46-49e2-9224-25732b5981ed')\"\n",
              "            title=\"Convert this dataframe to an interactive table.\"\n",
              "            style=\"display:none;\">\n",
              "\n",
              "  <svg xmlns=\"http://www.w3.org/2000/svg\" height=\"24px\" viewBox=\"0 -960 960 960\">\n",
              "    <path d=\"M120-120v-720h720v720H120Zm60-500h600v-160H180v160Zm220 220h160v-160H400v160Zm0 220h160v-160H400v160ZM180-400h160v-160H180v160Zm440 0h160v-160H620v160ZM180-180h160v-160H180v160Zm440 0h160v-160H620v160Z\"/>\n",
              "  </svg>\n",
              "    </button>\n",
              "\n",
              "  <style>\n",
              "    .colab-df-container {\n",
              "      display:flex;\n",
              "      gap: 12px;\n",
              "    }\n",
              "\n",
              "    .colab-df-convert {\n",
              "      background-color: #E8F0FE;\n",
              "      border: none;\n",
              "      border-radius: 50%;\n",
              "      cursor: pointer;\n",
              "      display: none;\n",
              "      fill: #1967D2;\n",
              "      height: 32px;\n",
              "      padding: 0 0 0 0;\n",
              "      width: 32px;\n",
              "    }\n",
              "\n",
              "    .colab-df-convert:hover {\n",
              "      background-color: #E2EBFA;\n",
              "      box-shadow: 0px 1px 2px rgba(60, 64, 67, 0.3), 0px 1px 3px 1px rgba(60, 64, 67, 0.15);\n",
              "      fill: #174EA6;\n",
              "    }\n",
              "\n",
              "    .colab-df-buttons div {\n",
              "      margin-bottom: 4px;\n",
              "    }\n",
              "\n",
              "    [theme=dark] .colab-df-convert {\n",
              "      background-color: #3B4455;\n",
              "      fill: #D2E3FC;\n",
              "    }\n",
              "\n",
              "    [theme=dark] .colab-df-convert:hover {\n",
              "      background-color: #434B5C;\n",
              "      box-shadow: 0px 1px 3px 1px rgba(0, 0, 0, 0.15);\n",
              "      filter: drop-shadow(0px 1px 2px rgba(0, 0, 0, 0.3));\n",
              "      fill: #FFFFFF;\n",
              "    }\n",
              "  </style>\n",
              "\n",
              "    <script>\n",
              "      const buttonEl =\n",
              "        document.querySelector('#df-5ae95e5f-4e46-49e2-9224-25732b5981ed button.colab-df-convert');\n",
              "      buttonEl.style.display =\n",
              "        google.colab.kernel.accessAllowed ? 'block' : 'none';\n",
              "\n",
              "      async function convertToInteractive(key) {\n",
              "        const element = document.querySelector('#df-5ae95e5f-4e46-49e2-9224-25732b5981ed');\n",
              "        const dataTable =\n",
              "          await google.colab.kernel.invokeFunction('convertToInteractive',\n",
              "                                                    [key], {});\n",
              "        if (!dataTable) return;\n",
              "\n",
              "        const docLinkHtml = 'Like what you see? Visit the ' +\n",
              "          '<a target=\"_blank\" href=https://colab.research.google.com/notebooks/data_table.ipynb>data table notebook</a>'\n",
              "          + ' to learn more about interactive tables.';\n",
              "        element.innerHTML = '';\n",
              "        dataTable['output_type'] = 'display_data';\n",
              "        await google.colab.output.renderOutput(dataTable, element);\n",
              "        const docLink = document.createElement('div');\n",
              "        docLink.innerHTML = docLinkHtml;\n",
              "        element.appendChild(docLink);\n",
              "      }\n",
              "    </script>\n",
              "  </div>\n",
              "\n",
              "\n",
              "<div id=\"df-1ef9b0fc-eb14-4727-9b4f-727b4c93008c\">\n",
              "  <button class=\"colab-df-quickchart\" onclick=\"quickchart('df-1ef9b0fc-eb14-4727-9b4f-727b4c93008c')\"\n",
              "            title=\"Suggest charts.\"\n",
              "            style=\"display:none;\">\n",
              "\n",
              "<svg xmlns=\"http://www.w3.org/2000/svg\" height=\"24px\"viewBox=\"0 0 24 24\"\n",
              "     width=\"24px\">\n",
              "    <g>\n",
              "        <path d=\"M19 3H5c-1.1 0-2 .9-2 2v14c0 1.1.9 2 2 2h14c1.1 0 2-.9 2-2V5c0-1.1-.9-2-2-2zM9 17H7v-7h2v7zm4 0h-2V7h2v10zm4 0h-2v-4h2v4z\"/>\n",
              "    </g>\n",
              "</svg>\n",
              "  </button>\n",
              "\n",
              "<style>\n",
              "  .colab-df-quickchart {\n",
              "      --bg-color: #E8F0FE;\n",
              "      --fill-color: #1967D2;\n",
              "      --hover-bg-color: #E2EBFA;\n",
              "      --hover-fill-color: #174EA6;\n",
              "      --disabled-fill-color: #AAA;\n",
              "      --disabled-bg-color: #DDD;\n",
              "  }\n",
              "\n",
              "  [theme=dark] .colab-df-quickchart {\n",
              "      --bg-color: #3B4455;\n",
              "      --fill-color: #D2E3FC;\n",
              "      --hover-bg-color: #434B5C;\n",
              "      --hover-fill-color: #FFFFFF;\n",
              "      --disabled-bg-color: #3B4455;\n",
              "      --disabled-fill-color: #666;\n",
              "  }\n",
              "\n",
              "  .colab-df-quickchart {\n",
              "    background-color: var(--bg-color);\n",
              "    border: none;\n",
              "    border-radius: 50%;\n",
              "    cursor: pointer;\n",
              "    display: none;\n",
              "    fill: var(--fill-color);\n",
              "    height: 32px;\n",
              "    padding: 0;\n",
              "    width: 32px;\n",
              "  }\n",
              "\n",
              "  .colab-df-quickchart:hover {\n",
              "    background-color: var(--hover-bg-color);\n",
              "    box-shadow: 0 1px 2px rgba(60, 64, 67, 0.3), 0 1px 3px 1px rgba(60, 64, 67, 0.15);\n",
              "    fill: var(--button-hover-fill-color);\n",
              "  }\n",
              "\n",
              "  .colab-df-quickchart-complete:disabled,\n",
              "  .colab-df-quickchart-complete:disabled:hover {\n",
              "    background-color: var(--disabled-bg-color);\n",
              "    fill: var(--disabled-fill-color);\n",
              "    box-shadow: none;\n",
              "  }\n",
              "\n",
              "  .colab-df-spinner {\n",
              "    border: 2px solid var(--fill-color);\n",
              "    border-color: transparent;\n",
              "    border-bottom-color: var(--fill-color);\n",
              "    animation:\n",
              "      spin 1s steps(1) infinite;\n",
              "  }\n",
              "\n",
              "  @keyframes spin {\n",
              "    0% {\n",
              "      border-color: transparent;\n",
              "      border-bottom-color: var(--fill-color);\n",
              "      border-left-color: var(--fill-color);\n",
              "    }\n",
              "    20% {\n",
              "      border-color: transparent;\n",
              "      border-left-color: var(--fill-color);\n",
              "      border-top-color: var(--fill-color);\n",
              "    }\n",
              "    30% {\n",
              "      border-color: transparent;\n",
              "      border-left-color: var(--fill-color);\n",
              "      border-top-color: var(--fill-color);\n",
              "      border-right-color: var(--fill-color);\n",
              "    }\n",
              "    40% {\n",
              "      border-color: transparent;\n",
              "      border-right-color: var(--fill-color);\n",
              "      border-top-color: var(--fill-color);\n",
              "    }\n",
              "    60% {\n",
              "      border-color: transparent;\n",
              "      border-right-color: var(--fill-color);\n",
              "    }\n",
              "    80% {\n",
              "      border-color: transparent;\n",
              "      border-right-color: var(--fill-color);\n",
              "      border-bottom-color: var(--fill-color);\n",
              "    }\n",
              "    90% {\n",
              "      border-color: transparent;\n",
              "      border-bottom-color: var(--fill-color);\n",
              "    }\n",
              "  }\n",
              "</style>\n",
              "\n",
              "  <script>\n",
              "    async function quickchart(key) {\n",
              "      const quickchartButtonEl =\n",
              "        document.querySelector('#' + key + ' button');\n",
              "      quickchartButtonEl.disabled = true;  // To prevent multiple clicks.\n",
              "      quickchartButtonEl.classList.add('colab-df-spinner');\n",
              "      try {\n",
              "        const charts = await google.colab.kernel.invokeFunction(\n",
              "            'suggestCharts', [key], {});\n",
              "      } catch (error) {\n",
              "        console.error('Error during call to suggestCharts:', error);\n",
              "      }\n",
              "      quickchartButtonEl.classList.remove('colab-df-spinner');\n",
              "      quickchartButtonEl.classList.add('colab-df-quickchart-complete');\n",
              "    }\n",
              "    (() => {\n",
              "      let quickchartButtonEl =\n",
              "        document.querySelector('#df-1ef9b0fc-eb14-4727-9b4f-727b4c93008c button');\n",
              "      quickchartButtonEl.style.display =\n",
              "        google.colab.kernel.accessAllowed ? 'block' : 'none';\n",
              "    })();\n",
              "  </script>\n",
              "</div>\n",
              "    </div>\n",
              "  </div>\n"
            ]
          },
          "metadata": {},
          "execution_count": 17
        }
      ],
      "source": [
        "year_df = pd.DataFrame({'Movie Name': movie_list, 'year': year_list})\n",
        "q2_df = pd.merge(year_df, average_ratings_df, on='Movie Name')\n",
        "q2_df = q2_df.sort_values(by=\"year\")\n",
        "q2_df"
      ]
    },
    {
      "cell_type": "code",
      "execution_count": null,
      "id": "13e057ad-10e8-4388-945f-0d74893c318c",
      "metadata": {
        "tags": [],
        "id": "13e057ad-10e8-4388-945f-0d74893c318c"
      },
      "outputs": [],
      "source": [
        "median_year = q2_df['year'].median()\n",
        "median_year = median_year.astype(int)"
      ]
    },
    {
      "cell_type": "code",
      "execution_count": null,
      "id": "7b64cdf9-e6fb-45ac-b499-22dd50f9c360",
      "metadata": {
        "tags": [],
        "id": "7b64cdf9-e6fb-45ac-b499-22dd50f9c360"
      },
      "outputs": [],
      "source": [
        "q2_df['year'] = q2_df['year'].astype(int)"
      ]
    },
    {
      "cell_type": "code",
      "execution_count": null,
      "id": "a7961666-9ad6-4007-b3a2-f293b0b41b25",
      "metadata": {
        "tags": [],
        "id": "a7961666-9ad6-4007-b3a2-f293b0b41b25",
        "outputId": "8ae2bbf6-7d30-417e-ed0f-139e1ba55192",
        "colab": {
          "base_uri": "https://localhost:8080/",
          "height": 564
        }
      },
      "outputs": [
        {
          "output_type": "display_data",
          "data": {
            "text/plain": [
              "<Figure size 1000x600 with 1 Axes>"
            ],
            "image/png": "[encoded data removed]"
          },
          "metadata": {}
        }
      ],
      "source": [
        "plt.figure(figsize=(10, 6))\n",
        "sns.scatterplot(data=q2_df, x='year', y='average_rating', color='blue')\n",
        "plt.xlabel(\"Year of Release\")\n",
        "plt.ylabel(\"Average Rating\")\n",
        "plt.title(\"Scatter Plot of Release Year vs. Average Rating\")\n",
        "plt.axvline(x=median_year, color='red', linestyle='--', label=f'Median Ratings Count ({median_year})')\n",
        "plt.legend()\n",
        "plt.show()"
      ]
    },
    {
      "cell_type": "code",
      "execution_count": null,
      "id": "f2adcd1a-2f78-450b-aedf-3fda16e6a536",
      "metadata": {
        "tags": [],
        "id": "f2adcd1a-2f78-450b-aedf-3fda16e6a536",
        "outputId": "d568ef74-c82e-4941-ea48-e3a6e257db18",
        "colab": {
          "base_uri": "https://localhost:8080/"
        }
      },
      "outputs": [
        {
          "output_type": "stream",
          "name": "stdout",
          "text": [
            "Levene's Test - Test Statistic: 1.6620802393442529, p-value: 0.1980714428132103\n"
          ]
        }
      ],
      "source": [
        "group1 = q2_df[q2_df['year'] >= median_year]['average_rating']\n",
        "group2 = q2_df[q2_df['year'] < median_year]['average_rating']\n",
        "#to check if the variances are differnt\n",
        "statistic, p_value = levene(group1, group2)\n",
        "\n",
        "# Print the results\n",
        "print(f\"Levene's Test - Test Statistic: {statistic}, p-value: {p_value}\")"
      ]
    },
    {
      "cell_type": "code",
      "source": [
        "# Perform the K-S test against a normal distribution\n",
        "D, p_value = kstest(group1, 'norm')\n",
        "\n",
        "print(f\"K-S statistic: {D}\")\n",
        "print(f\"P-value: {p_value}\")\n",
        "\n",
        "# Interpretation\n",
        "alpha = 0.05\n",
        "if p_value > alpha:\n",
        "    print(\"Sample looks Gaussian (fail to reject H0)\")\n",
        "else:\n",
        "    print(\"Sample does not look Gaussian (reject H0)\")"
      ],
      "metadata": {
        "colab": {
          "base_uri": "https://localhost:8080/"
        },
        "id": "2KFHkHUFNYUs",
        "outputId": "cea66ab4-843b-450a-e57b-ee6f3aca048c"
      },
      "id": "2KFHkHUFNYUs",
      "execution_count": null,
      "outputs": [
        {
          "output_type": "stream",
          "name": "stdout",
          "text": [
            "K-S statistic: 0.9726861069324244\n",
            "P-value: 7.707296e-318\n",
            "Sample does not look Gaussian (reject H0)\n"
          ]
        }
      ]
    },
    {
      "cell_type": "code",
      "source": [
        "plt.hist(group1)"
      ],
      "metadata": {
        "colab": {
          "base_uri": "https://localhost:8080/",
          "height": 519
        },
        "id": "MN2HoKorO6Cd",
        "outputId": "db41b6b4-e5b0-49a7-cc09-0cf419fa9c70"
      },
      "id": "MN2HoKorO6Cd",
      "execution_count": null,
      "outputs": [
        {
          "output_type": "execute_result",
          "data": {
            "text/plain": [
              "(array([ 7., 14., 29., 26., 30., 23., 23., 23., 19.,  9.]),\n",
              " array([1.91558442, 2.06544664, 2.21530886, 2.36517108, 2.51503331,\n",
              "        2.66489553, 2.81475775, 2.96461997, 3.1144822 , 3.26434442,\n",
              "        3.41420664]),\n",
              " <BarContainer object of 10 artists>)"
            ]
          },
          "metadata": {},
          "execution_count": 23
        },
        {
          "output_type": "display_data",
          "data": {
            "text/plain": [
              "<Figure size 640x480 with 1 Axes>"
            ],
            "image/png": "[encoded data removed]"
          },
          "metadata": {}
        }
      ]
    },
    {
      "cell_type": "code",
      "execution_count": null,
      "id": "ae7217a4-e2e0-4a61-ab7b-ccbae1806ea8",
      "metadata": {
        "tags": [],
        "id": "ae7217a4-e2e0-4a61-ab7b-ccbae1806ea8",
        "outputId": "3af789bb-7062-4440-c46b-e0a9e1e76aac",
        "colab": {
          "base_uri": "https://localhost:8080/"
        }
      },
      "outputs": [
        {
          "output_type": "stream",
          "name": "stdout",
          "text": [
            "T-Statistic: 1.605479609469516\n",
            "P-Value: 0.1091814139798191\n",
            "There is no significant difference in average ratings between older and newer movies.\n"
          ]
        }
      ],
      "source": [
        "# Perform the 2-sample t-test\n",
        "t_stat, p_value = ttest_ind(group1, group2, equal_var=True)\n",
        "\n",
        "print(f\"T-Statistic: {t_stat}\")\n",
        "print(f\"P-Value: {p_value}\")\n",
        "alpha = 0.005\n",
        "if p_value < alpha:\n",
        "    print(\"High popularity movies have significantly higher average ratings.\")\n",
        "else:\n",
        "    print(\"There is no significant difference in average ratings between older and newer movies.\")"
      ]
    },
    {
      "cell_type": "code",
      "source": [],
      "metadata": {
        "id": "7TtZdYZSIdcZ"
      },
      "id": "7TtZdYZSIdcZ",
      "execution_count": null,
      "outputs": []
    },
    {
      "cell_type": "code",
      "source": [],
      "metadata": {
        "id": "DMiz7mqRIdfA"
      },
      "id": "DMiz7mqRIdfA",
      "execution_count": null,
      "outputs": []
    },
    {
      "cell_type": "code",
      "source": [],
      "metadata": {
        "id": "5JFKYlssIdh3"
      },
      "id": "5JFKYlssIdh3",
      "execution_count": null,
      "outputs": []
    },
    {
      "cell_type": "code",
      "source": [],
      "metadata": {
        "id": "hSLYrh_vIdke"
      },
      "id": "hSLYrh_vIdke",
      "execution_count": null,
      "outputs": []
    },
    {
      "cell_type": "code",
      "execution_count": null,
      "id": "d3f2f021-c7e4-4df9-bdbb-bfbbb179b6a2",
      "metadata": {
        "tags": [],
        "id": "d3f2f021-c7e4-4df9-bdbb-bfbbb179b6a2"
      },
      "outputs": [],
      "source": [
        "shrek_df = data[['Shrek (2001)','Gender identity (1 = female; 2 = male; 3 = self-described)']]"
      ]
    },
    {
      "cell_type": "code",
      "execution_count": null,
      "id": "3ad2b295-d2ac-4371-a445-b3e3919b124b",
      "metadata": {
        "tags": [],
        "id": "3ad2b295-d2ac-4371-a445-b3e3919b124b",
        "outputId": "c9138860-d9aa-4417-e4cf-4a1b008acab3",
        "colab": {
          "base_uri": "https://localhost:8080/"
        }
      },
      "outputs": [
        {
          "output_type": "execute_result",
          "data": {
            "text/plain": [
              "3.1339285714285716"
            ]
          },
          "metadata": {},
          "execution_count": 26
        }
      ],
      "source": [
        "mean_rating = shrek_df['Shrek (2001)'].mean()\n",
        "mean_rating"
      ]
    },
    {
      "cell_type": "code",
      "execution_count": null,
      "id": "6984f8c2-c426-40cd-906d-bb1bf4f915f2",
      "metadata": {
        "tags": [],
        "id": "6984f8c2-c426-40cd-906d-bb1bf4f915f2"
      },
      "outputs": [],
      "source": [
        "shrek_f_df=shrek_df[shrek_df['Gender identity (1 = female; 2 = male; 3 = self-described)']==1.0]\n",
        "shrek_m_df=shrek_df[shrek_df['Gender identity (1 = female; 2 = male; 3 = self-described)']==2.0]"
      ]
    },
    {
      "cell_type": "code",
      "execution_count": null,
      "id": "5ad59223-f05b-4464-b702-ff3f4c520bf3",
      "metadata": {
        "tags": [],
        "id": "5ad59223-f05b-4464-b702-ff3f4c520bf3",
        "outputId": "80ae455e-56ed-40c1-b09e-6f09a87c490d",
        "colab": {
          "base_uri": "https://localhost:8080/"
        }
      },
      "outputs": [
        {
          "output_type": "stream",
          "name": "stdout",
          "text": [
            "Levene's Test - Test Statistic: 0.44722614898750407, p-value: 0.503812335250825\n"
          ]
        }
      ],
      "source": [
        "group1 = shrek_f_df['Shrek (2001)'].dropna()\n",
        "group2 = shrek_m_df['Shrek (2001)'].dropna()\n",
        "\n",
        "#to check if the variances are differnt\n",
        "statistic, p_value = levene(group1, group2)\n",
        "\n",
        "# Print the results\n",
        "print(f\"Levene's Test - Test Statistic: {statistic}, p-value: {p_value}\")"
      ]
    },
    {
      "cell_type": "code",
      "source": [
        "mean_group1 = np.mean(group1)\n",
        "std_group1 = np.std(group1)\n",
        "D, p_value_1 = kstest(group1, 'norm', args=(mean_group1, std_group1))\n",
        "\n",
        "mean_group2 = np.mean(group2)\n",
        "std_group2 = np.std(group2)\n",
        "D, p_value_2 = kstest(group2, 'norm', args=(mean_group2, std_group2))\n"
      ],
      "metadata": {
        "id": "qfSOMqHjIrGt"
      },
      "id": "qfSOMqHjIrGt",
      "execution_count": null,
      "outputs": []
    },
    {
      "cell_type": "code",
      "source": [
        "# our data is not normally distributed\n",
        "statistic, p_value = mannwhitneyu(group1, group2, alternative='two-sided')\n",
        "\n",
        "# Print the results\n",
        "print(\"Mann-Whitney U Statistic:\", statistic)\n",
        "print(\"p-value:\", p_value)\n"
      ],
      "metadata": {
        "id": "CACNOxnCIrig",
        "colab": {
          "base_uri": "https://localhost:8080/"
        },
        "outputId": "75876df6-432e-45bd-db44-f5d0b098bcc7"
      },
      "id": "CACNOxnCIrig",
      "execution_count": null,
      "outputs": [
        {
          "output_type": "stream",
          "name": "stdout",
          "text": [
            "Mann-Whitney U Statistic: 96830.5\n",
            "p-value: 0.050536625925559006\n"
          ]
        }
      ]
    },
    {
      "cell_type": "code",
      "source": [
        "# since the p-value > alpha, there is no signifcant difference between the male and female ratings"
      ],
      "metadata": {
        "id": "edsx8AgMIrkk"
      },
      "id": "edsx8AgMIrkk",
      "execution_count": null,
      "outputs": []
    },
    {
      "cell_type": "code",
      "source": [],
      "metadata": {
        "id": "ndfGI5-rIrm7"
      },
      "id": "ndfGI5-rIrm7",
      "execution_count": null,
      "outputs": []
    },
    {
      "cell_type": "code",
      "source": [],
      "metadata": {
        "id": "eBY1DZKBIrpR"
      },
      "id": "eBY1DZKBIrpR",
      "execution_count": null,
      "outputs": []
    },
    {
      "cell_type": "code",
      "source": [],
      "metadata": {
        "id": "wnPZyK9mIrrU"
      },
      "id": "wnPZyK9mIrrU",
      "execution_count": null,
      "outputs": []
    },
    {
      "cell_type": "code",
      "source": [
        "q5_df = data[['The Lion King (1994)','Are you an only child? (1: Yes; 0: No; -1: Did not respond)']]\n",
        "only_child = q5_df[q5_df['Are you an only child? (1: Yes; 0: No; -1: Did not respond)']==1]\n",
        "have_siblings = q5_df[q5_df['Are you an only child? (1: Yes; 0: No; -1: Did not respond)']==0]\n",
        "group1 = only_child['The Lion King (1994)'].dropna()\n",
        "group2 = have_siblings['The Lion King (1994)'].dropna()"
      ],
      "metadata": {
        "id": "0ePqblzlIrvz"
      },
      "id": "0ePqblzlIrvz",
      "execution_count": null,
      "outputs": []
    },
    {
      "cell_type": "code",
      "source": [
        "only_child['The Lion King (1994)'].mean()"
      ],
      "metadata": {
        "colab": {
          "base_uri": "https://localhost:8080/"
        },
        "id": "o7-tuQluIrx1",
        "outputId": "3e12228c-b0c4-4ee2-deb0-12faea147aa9"
      },
      "id": "o7-tuQluIrx1",
      "execution_count": null,
      "outputs": [
        {
          "output_type": "execute_result",
          "data": {
            "text/plain": [
              "3.347682119205298"
            ]
          },
          "metadata": {},
          "execution_count": 33
        }
      ]
    },
    {
      "cell_type": "code",
      "source": [
        "have_siblings['The Lion King (1994)'].mean()"
      ],
      "metadata": {
        "colab": {
          "base_uri": "https://localhost:8080/"
        },
        "id": "OSc_Cf81J1CY",
        "outputId": "8edc4cf0-0f35-455f-b6bc-8c1f5a065172"
      },
      "id": "OSc_Cf81J1CY",
      "execution_count": null,
      "outputs": [
        {
          "output_type": "execute_result",
          "data": {
            "text/plain": [
              "3.481958762886598"
            ]
          },
          "metadata": {},
          "execution_count": 34
        }
      ]
    },
    {
      "cell_type": "code",
      "source": [
        "\n",
        "plt.hist(group2,bins =9, alpha=0.5, label='People with Siblings', density=False)\n",
        "plt.hist(group1,bins=9, alpha=0.5, label='Only Childs', density=False)\n",
        "\n",
        "# Adding labels and title\n",
        "plt.xlabel('Ratings for The Lion King (1994)')     # Label for x-axis\n",
        "plt.ylabel('Frequency')        # Label for y-axis\n",
        "\n",
        "\n",
        "# Adding legend to differentiate between Group 1 and Group 2\n",
        "plt.legend(loc='upper left')  # 'loc' parameter specifies the location of the legend\n",
        "\n",
        "plt.show()  # Display the plot"
      ],
      "metadata": {
        "colab": {
          "base_uri": "https://localhost:8080/",
          "height": 449
        },
        "id": "eawdaH9pJ1HE",
        "outputId": "3d0300e1-770a-4396-e616-71354ec1551d"
      },
      "id": "eawdaH9pJ1HE",
      "execution_count": null,
      "outputs": [
        {
          "output_type": "display_data",
          "data": {
            "text/plain": [
              "<Figure size 640x480 with 1 Axes>"
            ],
            "image/png": "[encoded data removed]"
          },
          "metadata": {}
        }
      ]
    },
    {
      "cell_type": "code",
      "source": [
        "#since the data is not normally distributed\n",
        "statistic, p_value = mannwhitneyu(group1, group2, alternative='greater')\n",
        "\n",
        "# Print the results\n",
        "print(\"Mann-Whitney U Statistic:\", statistic)\n",
        "print(\"p-value:\", p_value)\n",
        "\n",
        "# Interpret the results based on the p-value and your significance level (e.g., 0.05)\n",
        "if p_value < alpha:\n",
        "    print(\"People with no siblings enjoy the movie more.\")\n",
        "else:\n",
        "    print(\"People with no siblings do not enjoy the movie more.\")\n"
      ],
      "metadata": {
        "id": "WWNw2J66KK8O",
        "colab": {
          "base_uri": "https://localhost:8080/"
        },
        "outputId": "8a85ac02-c2bc-4ed3-e268-66aa16c3d3b6"
      },
      "id": "WWNw2J66KK8O",
      "execution_count": null,
      "outputs": [
        {
          "output_type": "stream",
          "name": "stdout",
          "text": [
            "Mann-Whitney U Statistic: 52929.0\n",
            "p-value: 0.978419092554931\n",
            "People with no siblings do not enjoy the movie more.\n"
          ]
        }
      ]
    },
    {
      "cell_type": "code",
      "source": [],
      "metadata": {
        "id": "dO7K7B6DKK_D"
      },
      "id": "dO7K7B6DKK_D",
      "execution_count": null,
      "outputs": []
    },
    {
      "cell_type": "code",
      "source": [],
      "metadata": {
        "id": "KGOxVjkvKLBp"
      },
      "id": "KGOxVjkvKLBp",
      "execution_count": null,
      "outputs": []
    },
    {
      "cell_type": "code",
      "source": [],
      "metadata": {
        "id": "T1SY4c91KLEg"
      },
      "id": "T1SY4c91KLEg",
      "execution_count": null,
      "outputs": []
    },
    {
      "cell_type": "code",
      "source": [],
      "metadata": {
        "id": "tQtOSSseKLns"
      },
      "id": "tQtOSSseKLns",
      "execution_count": null,
      "outputs": []
    },
    {
      "cell_type": "code",
      "source": [
        "count_different_ratings = 0\n",
        "count = 0\n",
        "norm_count =0\n",
        "not_norm_count =0\n",
        "for i in range(1, 401):  # Columns 1-400 are movie ratings\n",
        "    # Extract ratings for the current movie\n",
        "    child = data.iloc[:, i-1]\n",
        "\n",
        "    # Extract ratings based on gender\n",
        "    only_child = child[data['Are you an only child? (1: Yes; 0: No; -1: Did not respond)'] == 1].dropna()\n",
        "    have_siblings = child[data['Are you an only child? (1: Yes; 0: No; -1: Did not respond)'] == 0].dropna()\n",
        "\n",
        "    # Compute the mean and standard deviation of the data\n",
        "    only_child_mean = np.mean(only_child)\n",
        "    only_child_std = np.std(only_child)\n",
        "    # Perform the KS test\n",
        "    # The 'cdf' parameter is set to 'norm' which stands for the normal distribution.\n",
        "    # The 'args' parameter receives the parameters of the distribution, in this case, the mean and std of the data.\n",
        "    D, p_value_only_child = kstest(only_child, 'norm', args=(only_child_mean, only_child_std))\n",
        "\n",
        "    have_siblings_mean = np.mean(have_siblings)\n",
        "    have_siblings_std = np.std(have_siblings)\n",
        "    D, p_value_have_siblings = kstest(have_siblings, 'norm', args=(have_siblings_mean, have_siblings_std))\n",
        "\n",
        "    alpha = 0.005\n",
        "    if p_value_only_child > alpha and p_value_have_siblings > alpha: #null hypothesis: data is normally distributed\n",
        "      norm_count +=1\n",
        "      count +=1\n",
        "      # Perform t-test\n",
        "      statistic, p_value_var = levene(only_child, have_siblings)\n",
        "      if p_value_var < alpha:\n",
        "        t_stat, p_val_ttest = ttest_ind(only_child, have_siblings, equal_var=False)\n",
        "        # Check if p-value is less than 0.005\n",
        "        if p_val_ttest < alpha:\n",
        "            count_different_ratings += 1\n",
        "      else:\n",
        "        t_stat, p_val_ttest = ttest_ind(only_child, have_siblings, equal_var=True)\n",
        "        # Check if p-value is less than 0.005\n",
        "        if p_val_ttest < alpha:\n",
        "            count_different_ratings += 1\n",
        "    else: #data is not normally distributed\n",
        "      not_norm_count +=1\n",
        "      statistic, p_value_mw = mannwhitneyu(only_child, have_siblings, alternative='two-sided')\n",
        "      if p_value_mw < alpha:\n",
        "        count_different_ratings += 1\n",
        "prop = count_different_ratings/400\n",
        "prop"
      ],
      "metadata": {
        "id": "iUgMdQc5LGns",
        "colab": {
          "base_uri": "https://localhost:8080/"
        },
        "outputId": "7e2c1145-96d1-4b21-d60a-67d3590205f8"
      },
      "id": "iUgMdQc5LGns",
      "execution_count": null,
      "outputs": [
        {
          "output_type": "execute_result",
          "data": {
            "text/plain": [
              "0.0175"
            ]
          },
          "metadata": {},
          "execution_count": 147
        }
      ]
    },
    {
      "cell_type": "code",
      "source": [],
      "metadata": {
        "id": "0YtS5gDbq3QB"
      },
      "id": "0YtS5gDbq3QB",
      "execution_count": null,
      "outputs": []
    },
    {
      "cell_type": "code",
      "source": [],
      "metadata": {
        "id": "UNBxRHm_q3Sh"
      },
      "id": "UNBxRHm_q3Sh",
      "execution_count": null,
      "outputs": []
    },
    {
      "cell_type": "code",
      "source": [],
      "metadata": {
        "id": "GeaeVD0Kq3VI"
      },
      "id": "GeaeVD0Kq3VI",
      "execution_count": null,
      "outputs": []
    },
    {
      "cell_type": "code",
      "source": [],
      "metadata": {
        "id": "wGeespgJq3XZ"
      },
      "id": "wGeespgJq3XZ",
      "execution_count": null,
      "outputs": []
    },
    {
      "cell_type": "code",
      "source": [
        "q7_df = data[['The Wolf of Wall Street (2013)','Movies are best enjoyed alone (1: Yes; 0: No; -1: Did not respond)']]\n",
        "social = q7_df[q7_df['Movies are best enjoyed alone (1: Yes; 0: No; -1: Did not respond)']==0]\n",
        "alone = q7_df[q7_df['Movies are best enjoyed alone (1: Yes; 0: No; -1: Did not respond)']==1]\n",
        "group1 = social['The Wolf of Wall Street (2013)'].dropna()\n",
        "group2 = alone['The Wolf of Wall Street (2013)'].dropna()"
      ],
      "metadata": {
        "id": "l9SoCAt1LG0d"
      },
      "id": "l9SoCAt1LG0d",
      "execution_count": null,
      "outputs": []
    },
    {
      "cell_type": "code",
      "source": [
        "statistic, p_value = levene(group1, group2)\n",
        "print(group1.mean())\n",
        "print(group2.mean())\n",
        "# Print the results\n",
        "print(f\"Levene's Test - Test Statistic: {statistic}, p-value: {p_value}\")"
      ],
      "metadata": {
        "colab": {
          "base_uri": "https://localhost:8080/"
        },
        "id": "39Y3m8vNNIXR",
        "outputId": "9f3adcb9-3a66-43ff-fdda-0f2416bfab36"
      },
      "id": "39Y3m8vNNIXR",
      "execution_count": null,
      "outputs": [
        {
          "output_type": "stream",
          "name": "stdout",
          "text": [
            "3.033333333333333\n",
            "3.143765903307888\n",
            "Levene's Test - Test Statistic: 0.80550320152209, p-value: 0.369779852094133\n"
          ]
        }
      ]
    },
    {
      "cell_type": "code",
      "source": [
        "#data has equal variance\n",
        "\n",
        "#we check if the data is normal\n",
        "plt.hist(group1, alpha = 0.5, label='Social Watchers')\n",
        "plt.hist(group2, alpha = 0.5, label='Non-social Watchers')\n",
        "plt.legend()"
      ],
      "metadata": {
        "colab": {
          "base_uri": "https://localhost:8080/",
          "height": 448
        },
        "id": "lHjjIPulNIZp",
        "outputId": "a8fa6c2b-fc5c-4927-fcbd-8185f0e47deb"
      },
      "id": "lHjjIPulNIZp",
      "execution_count": null,
      "outputs": [
        {
          "output_type": "execute_result",
          "data": {
            "text/plain": [
              "<matplotlib.legend.Legend at 0x7f278a831ab0>"
            ]
          },
          "metadata": {},
          "execution_count": 12
        },
        {
          "output_type": "display_data",
          "data": {
            "text/plain": [
              "<Figure size 640x480 with 1 Axes>"
            ],
            "image/png": "[encoded data removed]"
          },
          "metadata": {}
        }
      ]
    },
    {
      "cell_type": "code",
      "source": [
        "#since the data is not normal\n",
        "statistic, p_value = mannwhitneyu(group1, group2, alternative='greater')\n",
        "\n",
        "# Print the results\n",
        "print(\"Mann-Whitney U Statistic:\", statistic)\n",
        "print(\"p-value:\", p_value)\n",
        "\n",
        "# Interpret the results based on the p-value and your significance level (e.g., 0.05)\n",
        "if p_value < alpha:\n",
        "    print(\"People who like to watch movies socially enjoy the movie more.\")\n",
        "else:\n",
        "    print(\"People who like to watch movies socially do not enjoy the movie more than those who like to watch it alone.\")"
      ],
      "metadata": {
        "id": "jbi6WOWeNIb-",
        "colab": {
          "base_uri": "https://localhost:8080/"
        },
        "outputId": "a5b04148-866c-4437-a623-b1d2b20ee328"
      },
      "id": "jbi6WOWeNIb-",
      "execution_count": null,
      "outputs": [
        {
          "output_type": "stream",
          "name": "stdout",
          "text": [
            "Mann-Whitney U Statistic: 49303.5\n",
            "p-value: 0.9436657996253056\n",
            "People who like to watch movies socially do not enjoy the movie more than those who like to watch it alone.\n"
          ]
        }
      ]
    },
    {
      "cell_type": "code",
      "source": [],
      "metadata": {
        "id": "C--G4yuJNIeC"
      },
      "id": "C--G4yuJNIeC",
      "execution_count": null,
      "outputs": []
    },
    {
      "cell_type": "code",
      "source": [],
      "metadata": {
        "id": "zOjxXnKQvSM7"
      },
      "id": "zOjxXnKQvSM7",
      "execution_count": null,
      "outputs": []
    },
    {
      "cell_type": "code",
      "source": [],
      "metadata": {
        "id": "DFNJcR8evSyP"
      },
      "id": "DFNJcR8evSyP",
      "execution_count": null,
      "outputs": []
    },
    {
      "cell_type": "code",
      "source": [],
      "metadata": {
        "id": "FQhDhuI1vS0n"
      },
      "id": "FQhDhuI1vS0n",
      "execution_count": null,
      "outputs": []
    },
    {
      "cell_type": "code",
      "source": [],
      "metadata": {
        "id": "2MoeaLrXvS3b"
      },
      "id": "2MoeaLrXvS3b",
      "execution_count": null,
      "outputs": []
    },
    {
      "cell_type": "code",
      "source": [],
      "metadata": {
        "id": "DFuHaq-vNIgK"
      },
      "id": "DFuHaq-vNIgK",
      "execution_count": null,
      "outputs": []
    },
    {
      "cell_type": "code",
      "source": [
        "count_different_ratings = 0\n",
        "count = 0\n",
        "norm_count =0\n",
        "not_norm_count =0\n",
        "for i in range(1, 401):  # Columns 1-400 are movie ratings\n",
        "    # Extract ratings for the current movie\n",
        "    temp = data.iloc[:, i-1]\n",
        "\n",
        "    social = temp[data['Movies are best enjoyed alone (1: Yes; 0: No; -1: Did not respond)'] == 0].dropna()\n",
        "    alone = temp[data['Movies are best enjoyed alone (1: Yes; 0: No; -1: Did not respond)'] == 1].dropna()\n",
        "\n",
        "    # Compute the mean and standard deviation of the data\n",
        "    social_mean = np.mean(social)\n",
        "    social_std = np.std(social)\n",
        "    # Perform the KS test\n",
        "    # The 'cdf' parameter is set to 'norm' which stands for the normal distribution.\n",
        "    # The 'args' parameter receives the parameters of the distribution, in this case, the mean and std of the data.\n",
        "    D, p_value_social = kstest(social, 'norm', args=(social_mean, social_std))\n",
        "\n",
        "    alone_mean = np.mean(alone)\n",
        "    alone_std = np.std(alone)\n",
        "    D, p_value_alone = kstest(alone, 'norm', args=(alone_mean, alone_std))\n",
        "\n",
        "    alpha = 0.005\n",
        "    if p_value_social > alpha and p_value_alone > alpha: #null hypothesis: data is normally distributed\n",
        "      norm_count +=1\n",
        "      count +=1\n",
        "      # Perform t-test\n",
        "      statistic, p_value_var = levene(social, alone)\n",
        "      if p_value_var < alpha:\n",
        "        t_stat, p_val_ttest = ttest_ind(social, alone, equal_var=False)\n",
        "        if p_val_ttest < alpha:\n",
        "            count_different_ratings += 1\n",
        "      else:\n",
        "        t_stat, p_val_ttest = ttest_ind(social, alone, equal_var=True)\n",
        "        if p_val_ttest < alpha:\n",
        "            count_different_ratings += 1\n",
        "\n",
        "\n",
        "    else: #data is not normally distributed\n",
        "      not_norm_count +=1\n",
        "      statistic, p_value_mw = mannwhitneyu(social, alone, alternative='greater')\n",
        "      if p_value_mw < alpha:\n",
        "        count_different_ratings += 1\n",
        "prop = count_different_ratings/400\n",
        "prop"
      ],
      "metadata": {
        "id": "VG6E449oNIm5",
        "colab": {
          "base_uri": "https://localhost:8080/"
        },
        "outputId": "913511ad-6812-48e2-bb72-ceee15dec59c"
      },
      "id": "VG6E449oNIm5",
      "execution_count": null,
      "outputs": [
        {
          "output_type": "execute_result",
          "data": {
            "text/plain": [
              "0.015"
            ]
          },
          "metadata": {},
          "execution_count": 158
        }
      ]
    },
    {
      "cell_type": "code",
      "source": [],
      "metadata": {
        "id": "1OmnANvDNI-X"
      },
      "id": "1OmnANvDNI-X",
      "execution_count": null,
      "outputs": []
    },
    {
      "cell_type": "code",
      "source": [],
      "metadata": {
        "id": "UHqxrTPXNt4G"
      },
      "id": "UHqxrTPXNt4G",
      "execution_count": null,
      "outputs": []
    },
    {
      "cell_type": "code",
      "source": [],
      "metadata": {
        "id": "ZcYLG8LhNt65"
      },
      "id": "ZcYLG8LhNt65",
      "execution_count": null,
      "outputs": []
    },
    {
      "cell_type": "code",
      "source": [],
      "metadata": {
        "id": "T1hdEoonNt9R"
      },
      "id": "T1hdEoonNt9R",
      "execution_count": null,
      "outputs": []
    },
    {
      "cell_type": "code",
      "source": [
        "q9_df = data[['Home Alone (1990)','Finding Nemo (2003)']]\n",
        "group1 = q9_df['Home Alone (1990)'].dropna()\n",
        "group2 = q9_df['Finding Nemo (2003)'].dropna()\n",
        "statistic, p_value = levene(group1, group2)\n",
        "print(f\"Levene's Test - Test Statistic: {statistic}, p-value: {p_value}\")"
      ],
      "metadata": {
        "colab": {
          "base_uri": "https://localhost:8080/"
        },
        "id": "N-Gs9HOKNt_o",
        "outputId": "5151fe0f-22d6-4440-d9d6-6ba4a18802a0"
      },
      "id": "N-Gs9HOKNt_o",
      "execution_count": null,
      "outputs": [
        {
          "output_type": "stream",
          "name": "stdout",
          "text": [
            "Levene's Test - Test Statistic: 22.77900804511693, p-value: 1.9585675233986592e-06\n"
          ]
        }
      ]
    },
    {
      "cell_type": "code",
      "source": [
        "plt.hist(group1, alpha=0.5, label='Home Alone')\n",
        "plt.hist(group2, alpha=0.5, label = 'Finding Nemo')\n",
        "plt.legend()"
      ],
      "metadata": {
        "colab": {
          "base_uri": "https://localhost:8080/",
          "height": 448
        },
        "id": "yFJ6OU2BNuB9",
        "outputId": "d27a358b-e7db-42d2-fe87-13bbe3093374"
      },
      "id": "yFJ6OU2BNuB9",
      "execution_count": null,
      "outputs": [
        {
          "output_type": "execute_result",
          "data": {
            "text/plain": [
              "<matplotlib.legend.Legend at 0x7f278a77ebf0>"
            ]
          },
          "metadata": {},
          "execution_count": 15
        },
        {
          "output_type": "display_data",
          "data": {
            "text/plain": [
              "<Figure size 640x480 with 1 Axes>"
            ],
            "image/png": "[encoded data removed]"
          },
          "metadata": {}
        }
      ]
    },
    {
      "cell_type": "code",
      "source": [
        "statistic, p_value = ks_2samp(group1, group2)\n",
        "\n",
        "# Print the results\n",
        "print(\"KS Statistic:\", statistic)\n",
        "print(\"p-value:\", p_value)\n",
        "\n",
        "# Interpret the results based on the p-value and your significance level (e.g., 0.05)\n",
        "if p_value < alpha:\n",
        "    print(\"There is evidence of a significant difference between the two samples' distributions.\")\n",
        "else:\n",
        "    print(\"There is no evidence of a significant difference between the two samples' distributions.\")"
      ],
      "metadata": {
        "id": "fCkUHFiKNJA9",
        "colab": {
          "base_uri": "https://localhost:8080/"
        },
        "outputId": "2afc18db-f37a-40f4-cc0c-f4e197b41b13"
      },
      "id": "fCkUHFiKNJA9",
      "execution_count": null,
      "outputs": [
        {
          "output_type": "stream",
          "name": "stdout",
          "text": [
            "KS Statistic: 0.15269080020897632\n",
            "p-value: 6.379397182836346e-10\n",
            "There is evidence of a significant difference between the two samples' distributions.\n"
          ]
        }
      ]
    },
    {
      "cell_type": "code",
      "source": [],
      "metadata": {
        "id": "flfBiwKavr5v"
      },
      "id": "flfBiwKavr5v",
      "execution_count": null,
      "outputs": []
    },
    {
      "cell_type": "code",
      "source": [],
      "metadata": {
        "id": "N-_C2Fp-vr8G"
      },
      "id": "N-_C2Fp-vr8G",
      "execution_count": null,
      "outputs": []
    },
    {
      "cell_type": "code",
      "source": [],
      "metadata": {
        "id": "kcdn3l8jvr-a"
      },
      "id": "kcdn3l8jvr-a",
      "execution_count": null,
      "outputs": []
    },
    {
      "cell_type": "code",
      "source": [],
      "metadata": {
        "id": "_71bTl7ivsAf"
      },
      "id": "_71bTl7ivsAf",
      "execution_count": null,
      "outputs": []
    },
    {
      "cell_type": "code",
      "source": [],
      "metadata": {
        "id": "IqZ9YNnFOJuX"
      },
      "id": "IqZ9YNnFOJuX",
      "execution_count": null,
      "outputs": []
    },
    {
      "cell_type": "code",
      "source": [],
      "metadata": {
        "id": "92YUi2GROJw6"
      },
      "id": "92YUi2GROJw6",
      "execution_count": null,
      "outputs": []
    },
    {
      "cell_type": "code",
      "source": [],
      "metadata": {
        "colab": {
          "base_uri": "https://localhost:8080/"
        },
        "id": "vtBUCt-c0ku5",
        "outputId": "acb14657-fd9b-48bf-db6c-ddf927bd40f6"
      },
      "id": "vtBUCt-c0ku5",
      "execution_count": null,
      "outputs": [
        {
          "output_type": "stream",
          "name": "stdout",
          "text": [
            "F-statistic: 19.050958699528884\n",
            "p-value: 5.20425425762115e-12\n",
            "There is evidence of a significant difference among at least one pair of groups.\n"
          ]
        }
      ]
    },
    {
      "cell_type": "code",
      "source": [
        "\n",
        "\n"
      ],
      "metadata": {
        "id": "SayCYxPcOJ15"
      },
      "id": "SayCYxPcOJ15",
      "execution_count": null,
      "outputs": []
    },
    {
      "cell_type": "code",
      "source": [
        "franchise_list = ['Star Wars', 'Harry Potter', 'The Matrix', 'Indiana Jones', 'Jurassic Park', 'Pirates of the Caribbean', 'Toy Story', 'Batman']\n",
        "# Convert the list to a string representation\n",
        "franchise_list = [re.escape(movie) for movie in franchise_list]\n",
        "for movie in franchise_list:\n",
        "  selected_columns = data.columns[data.columns.str.contains(movie)]\n",
        "  selected_data = data[selected_columns]\n",
        "  selected_data = selected_data.dropna() #if any row has a null value, drop the row\n",
        "\n",
        "  f_statistic, p_value = f_oneway(*[selected_data[column] for column in selected_data.columns])\n",
        "\n",
        "  # # Print the results\n",
        "  # print(\"F-statistic:\", f_statistic)\n",
        "  # print(\"p-value:\", p_value)\n",
        "\n",
        "  # Interpret the results based on the p-value and your chosen significance level (e.g., 0.05)\n",
        "  if p_value < alpha:\n",
        "      print(f\"There is evidence of a significant difference among at least one pair of groups for {movie}.\")\n",
        "  else:\n",
        "      print(f\"There is no evidence of a significant difference among the groups for {movie}.\")"
      ],
      "metadata": {
        "id": "luEfmC86OJ4P",
        "colab": {
          "base_uri": "https://localhost:8080/"
        },
        "outputId": "e225ef3d-3b36-44fa-e669-59feecec3630"
      },
      "id": "luEfmC86OJ4P",
      "execution_count": null,
      "outputs": [
        {
          "output_type": "stream",
          "name": "stdout",
          "text": [
            "There is evidence of a significant difference among at least one pair of groups for Star\\ Wars.\n",
            "There is no evidence of a significant difference among the groups for Harry\\ Potter.\n",
            "There is evidence of a significant difference among at least one pair of groups for The\\ Matrix.\n",
            "There is evidence of a significant difference among at least one pair of groups for Indiana\\ Jones.\n",
            "There is evidence of a significant difference among at least one pair of groups for Jurassic\\ Park.\n",
            "There is no evidence of a significant difference among the groups for Pirates\\ of\\ the\\ Caribbean.\n",
            "There is evidence of a significant difference among at least one pair of groups for Toy\\ Story.\n",
            "There is evidence of a significant difference among at least one pair of groups for Batman.\n"
          ]
        }
      ]
    },
    {
      "cell_type": "code",
      "source": [],
      "metadata": {
        "id": "EnoIp2E0Ra9D"
      },
      "id": "EnoIp2E0Ra9D",
      "execution_count": null,
      "outputs": []
    },
    {
      "cell_type": "code",
      "source": [],
      "metadata": {
        "id": "frKs4MQcRa_o"
      },
      "id": "frKs4MQcRa_o",
      "execution_count": null,
      "outputs": []
    },
    {
      "cell_type": "code",
      "source": [],
      "metadata": {
        "id": "hFTqM2BhRbB-"
      },
      "id": "hFTqM2BhRbB-",
      "execution_count": null,
      "outputs": []
    },
    {
      "cell_type": "code",
      "source": [],
      "metadata": {
        "id": "JIp33IczRbEU"
      },
      "id": "JIp33IczRbEU",
      "execution_count": null,
      "outputs": []
    },
    {
      "cell_type": "code",
      "source": [],
      "metadata": {
        "id": "ibaDZefSRbGq"
      },
      "id": "ibaDZefSRbGq",
      "execution_count": null,
      "outputs": []
    },
    {
      "cell_type": "code",
      "source": [],
      "metadata": {
        "id": "pHsfPjUnRbJA"
      },
      "id": "pHsfPjUnRbJA",
      "execution_count": null,
      "outputs": []
    },
    {
      "cell_type": "markdown",
      "source": [
        "# Proportion different\n"
      ],
      "metadata": {
        "id": "c717L4-4euQ5"
      },
      "id": "c717L4-4euQ5"
    },
    {
      "cell_type": "code",
      "source": [
        "count_different_ratings = 0"
      ],
      "metadata": {
        "id": "JohMONEWe5DD"
      },
      "id": "JohMONEWe5DD",
      "execution_count": null,
      "outputs": []
    },
    {
      "cell_type": "code",
      "source": [
        "count = 0\n",
        "for i in range(1, 401):  # Columns 1-400 are movie ratings\n",
        "    # Extract ratings for the current movie\n",
        "    movie_ratings = data.iloc[:, i-1]\n",
        "\n",
        "    # Extract ratings based on gender\n",
        "    male_ratings = movie_ratings[data['Gender identity (1 = female; 2 = male; 3 = self-described)'] == 2.0].dropna()\n",
        "    female_ratings = movie_ratings[data['Gender identity (1 = female; 2 = male; 3 = self-described)'] == 1.0].dropna()\n",
        "\n",
        "    # Compute the mean and standard deviation of the data\n",
        "    male_mean = np.mean(male_ratings)\n",
        "    male_std = np.std(male_ratings)\n",
        "    # Perform the KS test\n",
        "    # The 'cdf' parameter is set to 'norm' which stands for the normal distribution.\n",
        "    # The 'args' parameter receives the parameters of the distribution, in this case, the mean and std of the data.\n",
        "    D, p_value_male = kstest(male_ratings, 'norm', args=(male_mean, male_std))\n",
        "\n",
        "    female_mean = np.mean(female_ratings)\n",
        "    female_std = np.std(female_ratings)\n",
        "    D, p_value_fem = kstest(female_ratings, 'norm', args=(female_mean, female_std))\n",
        "\n",
        "    alpha = 0.005\n",
        "    if p_value_fem > alpha and p_value_male > alpha: #null hypothesis: data is normally distributed\n",
        "      count +=1\n",
        "      # Perform t-test\n",
        "      statistic, p_value_var = levene(female_ratings, male_ratings)\n",
        "      if p_value_var < alpha:\n",
        "        t_stat, p_val_ttest = ttest_ind(male_ratings, female_ratings, equal_var=False)\n",
        "        # Check if p-value is less than 0.005\n",
        "        if p_val_ttest < alpha:\n",
        "            count_different_ratings += 1\n",
        "      else:\n",
        "        t_stat, p_val_ttest = ttest_ind(male_ratings, female_ratings, equal_var=True)\n",
        "        # Check if p-value is less than 0.005\n",
        "        if p_val_ttest < alpha:\n",
        "            count_different_ratings += 1\n",
        "    else:\n",
        "      statistic, p_value_mw = mannwhitneyu(male_ratings, female_ratings, alternative='two-sided')\n",
        "      if p_value_mw < alpha:\n",
        "        count_different_ratings += 1"
      ],
      "metadata": {
        "id": "7SQs_40Se8zN"
      },
      "id": "7SQs_40Se8zN",
      "execution_count": null,
      "outputs": []
    },
    {
      "cell_type": "code",
      "source": [
        "proportion_different_ratings = count_different_ratings / 400"
      ],
      "metadata": {
        "id": "WhXaBU-lfAsA"
      },
      "id": "WhXaBU-lfAsA",
      "execution_count": null,
      "outputs": []
    },
    {
      "cell_type": "code",
      "source": [
        "proportion_different_ratings"
      ],
      "metadata": {
        "colab": {
          "base_uri": "https://localhost:8080/"
        },
        "id": "fGIOW_9IhmYa",
        "outputId": "f34095e7-674e-4720-bd8f-d093d82a3cf0"
      },
      "id": "fGIOW_9IhmYa",
      "execution_count": null,
      "outputs": [
        {
          "output_type": "execute_result",
          "data": {
            "text/plain": [
              "0.125"
            ]
          },
          "metadata": {},
          "execution_count": 126
        }
      ]
    },
    {
      "cell_type": "code",
      "source": [
        "count"
      ],
      "metadata": {
        "colab": {
          "base_uri": "https://localhost:8080/"
        },
        "id": "T3Phm1hqj-UG",
        "outputId": "2bd907c9-52a5-44e4-a8bb-901f62f9cce3"
      },
      "id": "T3Phm1hqj-UG",
      "execution_count": null,
      "outputs": [
        {
          "output_type": "execute_result",
          "data": {
            "text/plain": [
              "170"
            ]
          },
          "metadata": {},
          "execution_count": 127
        }
      ]
    },
    {
      "cell_type": "code",
      "source": [
        "count_different_ratings"
      ],
      "metadata": {
        "colab": {
          "base_uri": "https://localhost:8080/"
        },
        "id": "2K7qib_gkLFB",
        "outputId": "dfbbefe1-a016-48c9-9388-fcfd95a529d2"
      },
      "id": "2K7qib_gkLFB",
      "execution_count": null,
      "outputs": [
        {
          "output_type": "execute_result",
          "data": {
            "text/plain": [
              "50"
            ]
          },
          "metadata": {},
          "execution_count": 128
        }
      ]
    },
    {
      "cell_type": "code",
      "source": [],
      "metadata": {
        "id": "4XSiN-C4lETv"
      },
      "id": "4XSiN-C4lETv",
      "execution_count": null,
      "outputs": []
    },
    {
      "cell_type": "code",
      "source": [],
      "metadata": {
        "id": "_ngL9K6sKOi3"
      },
      "id": "_ngL9K6sKOi3",
      "execution_count": null,
      "outputs": []
    },
    {
      "cell_type": "code",
      "source": [],
      "metadata": {
        "id": "bODKFxQ2KOo9"
      },
      "id": "bODKFxQ2KOo9",
      "execution_count": null,
      "outputs": []
    },
    {
      "cell_type": "code",
      "source": [],
      "metadata": {
        "id": "NII8sjykKOtV"
      },
      "id": "NII8sjykKOtV",
      "execution_count": null,
      "outputs": []
    },
    {
      "cell_type": "markdown",
      "source": [
        "**Short vs. Long Titles**\n"
      ],
      "metadata": {
        "id": "26XrAU9VKPCr"
      },
      "id": "26XrAU9VKPCr"
    },
    {
      "cell_type": "code",
      "source": [
        "ratings_count_df = pd.DataFrame({'Movie Name': ratings_count.index, 'ratings_count': ratings_count})\n",
        "# Create a DataFrame for average_ratings with the movie names as the index\n",
        "average_ratings_df = pd.DataFrame({'Movie Name': average_ratings.index, 'average_rating': average_ratings})\n",
        "# Merge the two DataFrames based on the 'Movie Name' column\n",
        "df = pd.merge(ratings_count_df, average_ratings_df, on='Movie Name')\n",
        "df = df.sort_values(by=\"ratings_count\")\n",
        "df"
      ],
      "metadata": {
        "id": "RRDWVSarKUjv",
        "colab": {
          "base_uri": "https://localhost:8080/",
          "height": 424
        },
        "outputId": "0a7a09e6-2469-499f-82b2-c3c4bb599f5e"
      },
      "id": "RRDWVSarKUjv",
      "execution_count": null,
      "outputs": [
        {
          "output_type": "execute_result",
          "data": {
            "text/plain": [
              "                    Movie Name  ratings_count  average_rating\n",
              "249     Best Laid Plans (1999)             54        2.046296\n",
              "334  The Final Conflict (1981)             55        2.309091\n",
              "346          FeardotCom (2002)             56        2.205357\n",
              "109          Sexy Beast (2000)             56        2.232143\n",
              "133          Stir Crazy (1980)             59        2.194915\n",
              "..                         ...            ...             ...\n",
              "267       Monsters  Inc.(2001)            927        3.352211\n",
              "220       The Lion King (1994)            937        3.459979\n",
              "57              Shrek 2 (2004)            965        2.825907\n",
              "87                Shrek (2001)           1008        3.133929\n",
              "138        Finding Nemo (2003)           1014        3.388067\n",
              "\n",
              "[400 rows x 3 columns]"
            ],
            "text/html": [
              "\n",
              "  <div id=\"df-11ceefe9-6aa3-4dca-81f8-cd25822b97f9\" class=\"colab-df-container\">\n",
              "    <div>\n",
              "<style scoped>\n",
              "    .dataframe tbody tr th:only-of-type {\n",
              "        vertical-align: middle;\n",
              "    }\n",
              "\n",
              "    .dataframe tbody tr th {\n",
              "        vertical-align: top;\n",
              "    }\n",
              "\n",
              "    .dataframe thead th {\n",
              "        text-align: right;\n",
              "    }\n",
              "</style>\n",
              "<table border=\"1\" class=\"dataframe\">\n",
              "  <thead>\n",
              "    <tr style=\"text-align: right;\">\n",
              "      <th></th>\n",
              "      <th>Movie Name</th>\n",
              "      <th>ratings_count</th>\n",
              "      <th>average_rating</th>\n",
              "    </tr>\n",
              "  </thead>\n",
              "  <tbody>\n",
              "    <tr>\n",
              "      <th>249</th>\n",
              "      <td>Best Laid Plans (1999)</td>\n",
              "      <td>54</td>\n",
              "      <td>2.046296</td>\n",
              "    </tr>\n",
              "    <tr>\n",
              "      <th>334</th>\n",
              "      <td>The Final Conflict (1981)</td>\n",
              "      <td>55</td>\n",
              "      <td>2.309091</td>\n",
              "    </tr>\n",
              "    <tr>\n",
              "      <th>346</th>\n",
              "      <td>FeardotCom (2002)</td>\n",
              "      <td>56</td>\n",
              "      <td>2.205357</td>\n",
              "    </tr>\n",
              "    <tr>\n",
              "      <th>109</th>\n",
              "      <td>Sexy Beast (2000)</td>\n",
              "      <td>56</td>\n",
              "      <td>2.232143</td>\n",
              "    </tr>\n",
              "    <tr>\n",
              "      <th>133</th>\n",
              "      <td>Stir Crazy (1980)</td>\n",
              "      <td>59</td>\n",
              "      <td>2.194915</td>\n",
              "    </tr>\n",
              "    <tr>\n",
              "      <th>...</th>\n",
              "      <td>...</td>\n",
              "      <td>...</td>\n",
              "      <td>...</td>\n",
              "    </tr>\n",
              "    <tr>\n",
              "      <th>267</th>\n",
              "      <td>Monsters  Inc.(2001)</td>\n",
              "      <td>927</td>\n",
              "      <td>3.352211</td>\n",
              "    </tr>\n",
              "    <tr>\n",
              "      <th>220</th>\n",
              "      <td>The Lion King (1994)</td>\n",
              "      <td>937</td>\n",
              "      <td>3.459979</td>\n",
              "    </tr>\n",
              "    <tr>\n",
              "      <th>57</th>\n",
              "      <td>Shrek 2 (2004)</td>\n",
              "      <td>965</td>\n",
              "      <td>2.825907</td>\n",
              "    </tr>\n",
              "    <tr>\n",
              "      <th>87</th>\n",
              "      <td>Shrek (2001)</td>\n",
              "      <td>1008</td>\n",
              "      <td>3.133929</td>\n",
              "    </tr>\n",
              "    <tr>\n",
              "      <th>138</th>\n",
              "      <td>Finding Nemo (2003)</td>\n",
              "      <td>1014</td>\n",
              "      <td>3.388067</td>\n",
              "    </tr>\n",
              "  </tbody>\n",
              "</table>\n",
              "<p>400 rows × 3 columns</p>\n",
              "</div>\n",
              "    <div class=\"colab-df-buttons\">\n",
              "\n",
              "  <div class=\"colab-df-container\">\n",
              "    <button class=\"colab-df-convert\" onclick=\"convertToInteractive('df-11ceefe9-6aa3-4dca-81f8-cd25822b97f9')\"\n",
              "            title=\"Convert this dataframe to an interactive table.\"\n",
              "            style=\"display:none;\">\n",
              "\n",
              "  <svg xmlns=\"http://www.w3.org/2000/svg\" height=\"24px\" viewBox=\"0 -960 960 960\">\n",
              "    <path d=\"M120-120v-720h720v720H120Zm60-500h600v-160H180v160Zm220 220h160v-160H400v160Zm0 220h160v-160H400v160ZM180-400h160v-160H180v160Zm440 0h160v-160H620v160ZM180-180h160v-160H180v160Zm440 0h160v-160H620v160Z\"/>\n",
              "  </svg>\n",
              "    </button>\n",
              "\n",
              "  <style>\n",
              "    .colab-df-container {\n",
              "      display:flex;\n",
              "      gap: 12px;\n",
              "    }\n",
              "\n",
              "    .colab-df-convert {\n",
              "      background-color: #E8F0FE;\n",
              "      border: none;\n",
              "      border-radius: 50%;\n",
              "      cursor: pointer;\n",
              "      display: none;\n",
              "      fill: #1967D2;\n",
              "      height: 32px;\n",
              "      padding: 0 0 0 0;\n",
              "      width: 32px;\n",
              "    }\n",
              "\n",
              "    .colab-df-convert:hover {\n",
              "      background-color: #E2EBFA;\n",
              "      box-shadow: 0px 1px 2px rgba(60, 64, 67, 0.3), 0px 1px 3px 1px rgba(60, 64, 67, 0.15);\n",
              "      fill: #174EA6;\n",
              "    }\n",
              "\n",
              "    .colab-df-buttons div {\n",
              "      margin-bottom: 4px;\n",
              "    }\n",
              "\n",
              "    [theme=dark] .colab-df-convert {\n",
              "      background-color: #3B4455;\n",
              "      fill: #D2E3FC;\n",
              "    }\n",
              "\n",
              "    [theme=dark] .colab-df-convert:hover {\n",
              "      background-color: #434B5C;\n",
              "      box-shadow: 0px 1px 3px 1px rgba(0, 0, 0, 0.15);\n",
              "      filter: drop-shadow(0px 1px 2px rgba(0, 0, 0, 0.3));\n",
              "      fill: #FFFFFF;\n",
              "    }\n",
              "  </style>\n",
              "\n",
              "    <script>\n",
              "      const buttonEl =\n",
              "        document.querySelector('#df-11ceefe9-6aa3-4dca-81f8-cd25822b97f9 button.colab-df-convert');\n",
              "      buttonEl.style.display =\n",
              "        google.colab.kernel.accessAllowed ? 'block' : 'none';\n",
              "\n",
              "      async function convertToInteractive(key) {\n",
              "        const element = document.querySelector('#df-11ceefe9-6aa3-4dca-81f8-cd25822b97f9');\n",
              "        const dataTable =\n",
              "          await google.colab.kernel.invokeFunction('convertToInteractive',\n",
              "                                                    [key], {});\n",
              "        if (!dataTable) return;\n",
              "\n",
              "        const docLinkHtml = 'Like what you see? Visit the ' +\n",
              "          '<a target=\"_blank\" href=https://colab.research.google.com/notebooks/data_table.ipynb>data table notebook</a>'\n",
              "          + ' to learn more about interactive tables.';\n",
              "        element.innerHTML = '';\n",
              "        dataTable['output_type'] = 'display_data';\n",
              "        await google.colab.output.renderOutput(dataTable, element);\n",
              "        const docLink = document.createElement('div');\n",
              "        docLink.innerHTML = docLinkHtml;\n",
              "        element.appendChild(docLink);\n",
              "      }\n",
              "    </script>\n",
              "  </div>\n",
              "\n",
              "\n",
              "<div id=\"df-3d7c6a83-fa7f-4c9d-bd77-be429e66af25\">\n",
              "  <button class=\"colab-df-quickchart\" onclick=\"quickchart('df-3d7c6a83-fa7f-4c9d-bd77-be429e66af25')\"\n",
              "            title=\"Suggest charts.\"\n",
              "            style=\"display:none;\">\n",
              "\n",
              "<svg xmlns=\"http://www.w3.org/2000/svg\" height=\"24px\"viewBox=\"0 0 24 24\"\n",
              "     width=\"24px\">\n",
              "    <g>\n",
              "        <path d=\"M19 3H5c-1.1 0-2 .9-2 2v14c0 1.1.9 2 2 2h14c1.1 0 2-.9 2-2V5c0-1.1-.9-2-2-2zM9 17H7v-7h2v7zm4 0h-2V7h2v10zm4 0h-2v-4h2v4z\"/>\n",
              "    </g>\n",
              "</svg>\n",
              "  </button>\n",
              "\n",
              "<style>\n",
              "  .colab-df-quickchart {\n",
              "      --bg-color: #E8F0FE;\n",
              "      --fill-color: #1967D2;\n",
              "      --hover-bg-color: #E2EBFA;\n",
              "      --hover-fill-color: #174EA6;\n",
              "      --disabled-fill-color: #AAA;\n",
              "      --disabled-bg-color: #DDD;\n",
              "  }\n",
              "\n",
              "  [theme=dark] .colab-df-quickchart {\n",
              "      --bg-color: #3B4455;\n",
              "      --fill-color: #D2E3FC;\n",
              "      --hover-bg-color: #434B5C;\n",
              "      --hover-fill-color: #FFFFFF;\n",
              "      --disabled-bg-color: #3B4455;\n",
              "      --disabled-fill-color: #666;\n",
              "  }\n",
              "\n",
              "  .colab-df-quickchart {\n",
              "    background-color: var(--bg-color);\n",
              "    border: none;\n",
              "    border-radius: 50%;\n",
              "    cursor: pointer;\n",
              "    display: none;\n",
              "    fill: var(--fill-color);\n",
              "    height: 32px;\n",
              "    padding: 0;\n",
              "    width: 32px;\n",
              "  }\n",
              "\n",
              "  .colab-df-quickchart:hover {\n",
              "    background-color: var(--hover-bg-color);\n",
              "    box-shadow: 0 1px 2px rgba(60, 64, 67, 0.3), 0 1px 3px 1px rgba(60, 64, 67, 0.15);\n",
              "    fill: var(--button-hover-fill-color);\n",
              "  }\n",
              "\n",
              "  .colab-df-quickchart-complete:disabled,\n",
              "  .colab-df-quickchart-complete:disabled:hover {\n",
              "    background-color: var(--disabled-bg-color);\n",
              "    fill: var(--disabled-fill-color);\n",
              "    box-shadow: none;\n",
              "  }\n",
              "\n",
              "  .colab-df-spinner {\n",
              "    border: 2px solid var(--fill-color);\n",
              "    border-color: transparent;\n",
              "    border-bottom-color: var(--fill-color);\n",
              "    animation:\n",
              "      spin 1s steps(1) infinite;\n",
              "  }\n",
              "\n",
              "  @keyframes spin {\n",
              "    0% {\n",
              "      border-color: transparent;\n",
              "      border-bottom-color: var(--fill-color);\n",
              "      border-left-color: var(--fill-color);\n",
              "    }\n",
              "    20% {\n",
              "      border-color: transparent;\n",
              "      border-left-color: var(--fill-color);\n",
              "      border-top-color: var(--fill-color);\n",
              "    }\n",
              "    30% {\n",
              "      border-color: transparent;\n",
              "      border-left-color: var(--fill-color);\n",
              "      border-top-color: var(--fill-color);\n",
              "      border-right-color: var(--fill-color);\n",
              "    }\n",
              "    40% {\n",
              "      border-color: transparent;\n",
              "      border-right-color: var(--fill-color);\n",
              "      border-top-color: var(--fill-color);\n",
              "    }\n",
              "    60% {\n",
              "      border-color: transparent;\n",
              "      border-right-color: var(--fill-color);\n",
              "    }\n",
              "    80% {\n",
              "      border-color: transparent;\n",
              "      border-right-color: var(--fill-color);\n",
              "      border-bottom-color: var(--fill-color);\n",
              "    }\n",
              "    90% {\n",
              "      border-color: transparent;\n",
              "      border-bottom-color: var(--fill-color);\n",
              "    }\n",
              "  }\n",
              "</style>\n",
              "\n",
              "  <script>\n",
              "    async function quickchart(key) {\n",
              "      const quickchartButtonEl =\n",
              "        document.querySelector('#' + key + ' button');\n",
              "      quickchartButtonEl.disabled = true;  // To prevent multiple clicks.\n",
              "      quickchartButtonEl.classList.add('colab-df-spinner');\n",
              "      try {\n",
              "        const charts = await google.colab.kernel.invokeFunction(\n",
              "            'suggestCharts', [key], {});\n",
              "      } catch (error) {\n",
              "        console.error('Error during call to suggestCharts:', error);\n",
              "      }\n",
              "      quickchartButtonEl.classList.remove('colab-df-spinner');\n",
              "      quickchartButtonEl.classList.add('colab-df-quickchart-complete');\n",
              "    }\n",
              "    (() => {\n",
              "      let quickchartButtonEl =\n",
              "        document.querySelector('#df-3d7c6a83-fa7f-4c9d-bd77-be429e66af25 button');\n",
              "      quickchartButtonEl.style.display =\n",
              "        google.colab.kernel.accessAllowed ? 'block' : 'none';\n",
              "    })();\n",
              "  </script>\n",
              "</div>\n",
              "    </div>\n",
              "  </div>\n"
            ]
          },
          "metadata": {},
          "execution_count": 43
        }
      ]
    },
    {
      "cell_type": "code",
      "source": [
        "\n",
        "def get_word_count(movie_name):\n",
        "    match = re.match(r\"^(.*)\\s\\(\\d{4}\\)$\", movie_name)\n",
        "    if match:\n",
        "        name = match.group(1)\n",
        "    else:\n",
        "        name = movie_name  # or however you want to handle this case\n",
        "    return len(name.split())\n"
      ],
      "metadata": {
        "id": "WlqYcYbyVi_O"
      },
      "id": "WlqYcYbyVi_O",
      "execution_count": null,
      "outputs": []
    },
    {
      "cell_type": "code",
      "source": [
        "def process_movie_name(movie_name):\n",
        "    # List of movie series to be considered\n",
        "    movies_list = ['Star Wars', 'Harry Potter', 'The Matrix', 'Indiana Jones',\n",
        "                   'Jurassic Park', 'Pirates of the Caribbean', 'Toy Story', 'Batman']\n",
        "\n",
        "    for movie in movies_list:\n",
        "        if movie_name.startswith(movie):\n",
        "            # Extract the year from the movie name\n",
        "            year_match = re.search(r\"\\(\\d{4}\\)\", movie_name)\n",
        "            year = year_match.group(0) if year_match else ''\n",
        "            # Keep only the specified movie series name and the year\n",
        "            return f\"{movie} {year}\".strip()\n",
        "\n",
        "    # If the movie name doesn't start with any of the specified movie series names, return it unchanged\n",
        "    return movie_name\n",
        "\n",
        "# ... rest of your code\n",
        "\n",
        "# Process the movie names\n",
        "df['Processed Movie Name'] = df['Movie Name'].apply(process_movie_name)\n",
        "\n",
        "# ... rest of your code\n",
        "\n",
        "# Filtering based on word count\n",
        "filter_condition = df['Processed Movie Name'].apply(get_word_count)\n",
        "\n",
        "# ... rest of your code\n",
        "\n",
        "# Creating new DataFrames\n",
        "group1 = df.loc[filter_condition > 2, ['Processed Movie Name', 'ratings_count']]['ratings_count']\n",
        "group2 = df.loc[filter_condition <= 2, ['Processed Movie Name', 'ratings_count']]['ratings_count']\n",
        "\n",
        "print(group2)\n",
        "# Now you can perform the Mann-Whitney U test as before\n",
        "if not group1.empty and not group2.empty:\n",
        "    statistic, p_value = mannwhitneyu(group1, group2, alternative='less')\n",
        "\n",
        "    # Output the result\n",
        "    print(f'Mann-Whitney U Statistic: {statistic}')\n",
        "    print(f'p-value: {p_value}')\n",
        "else:\n",
        "    print(\"One or both groups are empty.\")\n"
      ],
      "metadata": {
        "colab": {
          "base_uri": "https://localhost:8080/"
        },
        "id": "03K10CJEbGTw",
        "outputId": "41d3d9ff-4628-44ee-a20b-41b2e7c233c9"
      },
      "id": "03K10CJEbGTw",
      "execution_count": null,
      "outputs": [
        {
          "output_type": "stream",
          "name": "stdout",
          "text": [
            "346      56\n",
            "109      56\n",
            "133      59\n",
            "359      59\n",
            "119      60\n",
            "       ... \n",
            "276     926\n",
            "267     927\n",
            "57      965\n",
            "87     1008\n",
            "138    1014\n",
            "Name: ratings_count, Length: 242, dtype: int64\n",
            "Mann-Whitney U Statistic: 18462.0\n",
            "p-value: 0.28098795446575486\n"
          ]
        }
      ]
    },
    {
      "cell_type": "code",
      "source": [
        "plt.hist(group1, label ='Movies with names with 2 words or less', alpha = 0.5)\n",
        "plt.hist(group2, label ='Movies with names with more than 2 words',alpha = 0.5)\n",
        "plt.legend(loc='upper right')"
      ],
      "metadata": {
        "colab": {
          "base_uri": "https://localhost:8080/",
          "height": 448
        },
        "id": "QYvzvhmDXCdK",
        "outputId": "8fa87671-619c-4d3e-bd0d-99659ebcb849"
      },
      "id": "QYvzvhmDXCdK",
      "execution_count": null,
      "outputs": [
        {
          "output_type": "execute_result",
          "data": {
            "text/plain": [
              "<matplotlib.legend.Legend at 0x7a407fae9ff0>"
            ]
          },
          "metadata": {},
          "execution_count": 51
        },
        {
          "output_type": "display_data",
          "data": {
            "text/plain": [
              "<Figure size 640x480 with 1 Axes>"
            ],
            "image/png": "[encoded data removed]"
          },
          "metadata": {}
        }
      ]
    },
    {
      "cell_type": "code",
      "source": [],
      "metadata": {
        "id": "ChIlTBdzdcOP"
      },
      "id": "ChIlTBdzdcOP",
      "execution_count": null,
      "outputs": []
    }
  ],
  "metadata": {
    "kernelspec": {
      "display_name": "Python 3 (ipykernel)",
      "language": "python",
      "name": "python3"
    },
    "language_info": {
      "codemirror_mode": {
        "name": "ipython",
        "version": 3
      },
      "file_extension": ".py",
      "mimetype": "text/x-python",
      "name": "python",
      "nbconvert_exporter": "python",
      "pygments_lexer": "ipython3",
      "version": "3.10.9"
    },
    "colab": {
      "provenance": []
    }
  },
  "nbformat": 4,
  "nbformat_minor": 5
}